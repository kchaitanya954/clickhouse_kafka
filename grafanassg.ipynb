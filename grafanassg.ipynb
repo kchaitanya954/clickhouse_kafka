{
 "cells": [
  {
   "cell_type": "code",
   "execution_count": 42,
   "id": "cd77094b",
   "metadata": {},
   "outputs": [],
   "source": [
    "import numpy as np\n",
    "import sys\n",
    "import time\n",
    "from clickhouse_driver import Client, connect"
   ]
  },
  {
   "cell_type": "code",
   "execution_count": 65,
   "id": "fb4c560d",
   "metadata": {},
   "outputs": [],
   "source": [
    "client = Client('localhost')"
   ]
  },
  {
   "cell_type": "code",
   "execution_count": 54,
   "id": "ede3ec2d",
   "metadata": {},
   "outputs": [],
   "source": [
    "conn = connect('clickhouse://localhost')"
   ]
  },
  {
   "cell_type": "code",
   "execution_count": 55,
   "id": "93e8e780",
   "metadata": {},
   "outputs": [],
   "source": [
    "cursor = conn.cursor()"
   ]
  },
  {
   "cell_type": "code",
   "execution_count": null,
   "id": "be88ac07",
   "metadata": {},
   "outputs": [],
   "source": [
    "create table IF NOT EXISTS test(coronavirus Float32,disaster Float32, elections Float32,other Float32, time DateTime('Europe/Moscow'), \\\n",
    "    sports Float32 ) ENGINE = MergeTree() ORDER BY time"
   ]
  },
  {
   "cell_type": "code",
   "execution_count": 57,
   "id": "6f279d3f",
   "metadata": {},
   "outputs": [],
   "source": [
    "\n",
    "import json\n",
    "import datetime\n",
    "import numpy as np\n",
    "import sys\n",
    "import time"
   ]
  },
  {
   "cell_type": "code",
   "execution_count": 70,
   "id": "cb3386d1",
   "metadata": {},
   "outputs": [],
   "source": [
    "def genDict(): \n",
    "    randList = np.random.dirichlet(np.ones(5),size=1)[0]\n",
    "#     maxList = [0]*5\n",
    "#     maxInd = np.argmin(randList)\n",
    "#     maxList[maxInd] = 1\n",
    "    today = datetime.datetime.now()\n",
    "    time = today.strftime(\"%Y-%m-%d %H:%M:%S\")\n",
    "    \n",
    "#     maxList.insert(0, str(time))\n",
    "    \n",
    "    events = [\"sports\", \"coronavirus\", \"disaster\", \"elections\", \"other\"]\n",
    "    eventDict = dict(zip(events, randList))\n",
    "    eventDict['time'] = time\n",
    "    # print(eventDict)\n",
    "    # time.sleep(1)\n",
    "    return eventDict"
   ]
  },
  {
   "cell_type": "code",
   "execution_count": 60,
   "id": "9088c496",
   "metadata": {},
   "outputs": [
    {
     "data": {
      "text/plain": [
       "array([0.11846525, 0.01605112, 0.12245676, 0.32030652, 0.42272035])"
      ]
     },
     "execution_count": 60,
     "metadata": {},
     "output_type": "execute_result"
    }
   ],
   "source": [
    "np.random.dirichlet(np.ones(5),size=1)[0]"
   ]
  },
  {
   "cell_type": "code",
   "execution_count": null,
   "id": "9d82504d",
   "metadata": {},
   "outputs": [],
   "source": [
    "insert into docker.test format JSONEachRow \n",
    "'{\"sports\": 0.4445108726918946, \"coronavirus\": 0.17739391456795406, \"disaster\": 0.20197930656809288, \"elections\": 0.06640549821033753, \"other\": 0.10971040796172099, \"time\": \"2021-06-10 00:50:13\"}'"
   ]
  },
  {
   "cell_type": "code",
   "execution_count": 74,
   "id": "77438751",
   "metadata": {},
   "outputs": [
    {
     "data": {
      "text/plain": [
       "'{\"sports\": 0.4445108726918946, \"coronavirus\": 0.17739391456795406, \"disaster\": 0.20197930656809288, \"elections\": 0.06640549821033753, \"other\": 0.10971040796172099, \"time\": \"2021-06-10 00:50:13\"}'"
      ]
     },
     "execution_count": 74,
     "metadata": {},
     "output_type": "execute_result"
    }
   ],
   "source": [
    "import json \n",
    "json.dumps({'sports': 0.4445108726918946,\n",
    " 'coronavirus': 0.17739391456795406,\n",
    " 'disaster': 0.20197930656809288,\n",
    " 'elections': 0.06640549821033753,\n",
    " 'other': 0.10971040796172099,\n",
    " 'time': '2021-06-10 00:50:13'})"
   ]
  },
  {
   "cell_type": "code",
   "execution_count": null,
   "id": "aae798a3",
   "metadata": {},
   "outputs": [],
   "source": [
    "select \n",
    "       (case when sports = greatest(sports, coronavirus, disaster, elections, other) then 'sports'\n",
    "             when coronavirus = greatest(sports, coronavirus, disaster, elections, other) then 'coronavirus'\n",
    "             when disaster = greatest(sports, coronavirus, disaster, elections, other) then 'disaster'\n",
    "             when elections = greatest(sports, coronavirus, disaster, elections, other) then 'elections'\n",
    "             when other = greatest(sports, coronavirus, disaster, elections, other) then 'other'\n",
    "        end) as Running                 \n",
    "from test"
   ]
  },
  {
   "cell_type": "code",
   "execution_count": 73,
   "id": "64f73889",
   "metadata": {},
   "outputs": [
    {
     "data": {
      "text/plain": [
       "{'sports': 0.4445108726918946,\n",
       " 'coronavirus': 0.17739391456795406,\n",
       " 'disaster': 0.20197930656809288,\n",
       " 'elections': 0.06640549821033753,\n",
       " 'other': 0.10971040796172099,\n",
       " 'time': '2021-06-10 00:50:13'}"
      ]
     },
     "execution_count": 73,
     "metadata": {},
     "output_type": "execute_result"
    }
   ],
   "source": [
    "genDict()"
   ]
  },
  {
   "cell_type": "code",
   "execution_count": 56,
   "id": "ba5496c0",
   "metadata": {},
   "outputs": [
    {
     "name": "stderr",
     "output_type": "stream",
     "text": [
      "Failed to connect to localhost:9000\n",
      "Traceback (most recent call last):\n",
      "  File \"/home/chaitanya/anaconda3/lib/python3.8/site-packages/clickhouse_driver/connection.py\", line 318, in connect\n",
      "    return self._init_connection(host, port)\n",
      "  File \"/home/chaitanya/anaconda3/lib/python3.8/site-packages/clickhouse_driver/connection.py\", line 282, in _init_connection\n",
      "    self.socket = self._create_socket(host, port)\n",
      "  File \"/home/chaitanya/anaconda3/lib/python3.8/site-packages/clickhouse_driver/connection.py\", line 254, in _create_socket\n",
      "    raise err\n",
      "  File \"/home/chaitanya/anaconda3/lib/python3.8/site-packages/clickhouse_driver/connection.py\", line 245, in _create_socket\n",
      "    sock.connect(sa)\n",
      "ConnectionRefusedError: [Errno 111] Connection refused\n"
     ]
    },
    {
     "ename": "OperationalError",
     "evalue": "Code: 210. Connection refused (localhost:9000)",
     "output_type": "error",
     "traceback": [
      "\u001b[0;31m---------------------------------------------------------------------------\u001b[0m",
      "\u001b[0;31mNetworkError\u001b[0m                              Traceback (most recent call last)",
      "\u001b[0;32m~/anaconda3/lib/python3.8/site-packages/clickhouse_driver/dbapi/cursor.py\u001b[0m in \u001b[0;36mexecute\u001b[0;34m(self, operation, parameters)\u001b[0m\n\u001b[1;32m    110\u001b[0m \u001b[0;34m\u001b[0m\u001b[0m\n\u001b[0;32m--> 111\u001b[0;31m             response = execute(\n\u001b[0m\u001b[1;32m    112\u001b[0m                 \u001b[0moperation\u001b[0m\u001b[0;34m,\u001b[0m \u001b[0mparams\u001b[0m\u001b[0;34m=\u001b[0m\u001b[0mparameters\u001b[0m\u001b[0;34m,\u001b[0m \u001b[0mwith_column_types\u001b[0m\u001b[0;34m=\u001b[0m\u001b[0;32mTrue\u001b[0m\u001b[0;34m,\u001b[0m\u001b[0;34m\u001b[0m\u001b[0;34m\u001b[0m\u001b[0m\n",
      "\u001b[0;32m~/anaconda3/lib/python3.8/site-packages/clickhouse_driver/client.py\u001b[0m in \u001b[0;36mexecute\u001b[0;34m(self, query, params, with_column_types, external_tables, query_id, settings, types_check, columnar)\u001b[0m\n\u001b[1;32m    251\u001b[0m         \u001b[0mself\u001b[0m\u001b[0;34m.\u001b[0m\u001b[0mmake_query_settings\u001b[0m\u001b[0;34m(\u001b[0m\u001b[0msettings\u001b[0m\u001b[0;34m)\u001b[0m\u001b[0;34m\u001b[0m\u001b[0;34m\u001b[0m\u001b[0m\n\u001b[0;32m--> 252\u001b[0;31m         \u001b[0mself\u001b[0m\u001b[0;34m.\u001b[0m\u001b[0mconnection\u001b[0m\u001b[0;34m.\u001b[0m\u001b[0mforce_connect\u001b[0m\u001b[0;34m(\u001b[0m\u001b[0;34m)\u001b[0m\u001b[0;34m\u001b[0m\u001b[0;34m\u001b[0m\u001b[0m\n\u001b[0m\u001b[1;32m    253\u001b[0m         \u001b[0mself\u001b[0m\u001b[0;34m.\u001b[0m\u001b[0mlast_query\u001b[0m \u001b[0;34m=\u001b[0m \u001b[0mQueryInfo\u001b[0m\u001b[0;34m(\u001b[0m\u001b[0;34m)\u001b[0m\u001b[0;34m\u001b[0m\u001b[0;34m\u001b[0m\u001b[0m\n",
      "\u001b[0;32m~/anaconda3/lib/python3.8/site-packages/clickhouse_driver/connection.py\u001b[0m in \u001b[0;36mforce_connect\u001b[0;34m(self)\u001b[0m\n\u001b[1;32m    211\u001b[0m         \u001b[0;32mif\u001b[0m \u001b[0;32mnot\u001b[0m \u001b[0mself\u001b[0m\u001b[0;34m.\u001b[0m\u001b[0mconnected\u001b[0m\u001b[0;34m:\u001b[0m\u001b[0;34m\u001b[0m\u001b[0;34m\u001b[0m\u001b[0m\n\u001b[0;32m--> 212\u001b[0;31m             \u001b[0mself\u001b[0m\u001b[0;34m.\u001b[0m\u001b[0mconnect\u001b[0m\u001b[0;34m(\u001b[0m\u001b[0;34m)\u001b[0m\u001b[0;34m\u001b[0m\u001b[0;34m\u001b[0m\u001b[0m\n\u001b[0m\u001b[1;32m    213\u001b[0m \u001b[0;34m\u001b[0m\u001b[0m\n",
      "\u001b[0;32m~/anaconda3/lib/python3.8/site-packages/clickhouse_driver/connection.py\u001b[0m in \u001b[0;36mconnect\u001b[0;34m(self)\u001b[0m\n\u001b[1;32m    338\u001b[0m         \u001b[0;32mif\u001b[0m \u001b[0merr\u001b[0m \u001b[0;32mis\u001b[0m \u001b[0;32mnot\u001b[0m \u001b[0;32mNone\u001b[0m\u001b[0;34m:\u001b[0m\u001b[0;34m\u001b[0m\u001b[0;34m\u001b[0m\u001b[0m\n\u001b[0;32m--> 339\u001b[0;31m             \u001b[0;32mraise\u001b[0m \u001b[0merr\u001b[0m\u001b[0;34m\u001b[0m\u001b[0;34m\u001b[0m\u001b[0m\n\u001b[0m\u001b[1;32m    340\u001b[0m \u001b[0;34m\u001b[0m\u001b[0m\n",
      "\u001b[0;31mNetworkError\u001b[0m: Code: 210. Connection refused (localhost:9000)",
      "\nDuring handling of the above exception, another exception occurred:\n",
      "\u001b[0;31mOperationalError\u001b[0m                          Traceback (most recent call last)",
      "\u001b[0;32m<ipython-input-56-9a4c0ab9fc54>\u001b[0m in \u001b[0;36m<module>\u001b[0;34m\u001b[0m\n\u001b[0;32m----> 1\u001b[0;31m \u001b[0mcursor\u001b[0m\u001b[0;34m.\u001b[0m\u001b[0mexecute\u001b[0m\u001b[0;34m(\u001b[0m\u001b[0;34m'SHOW databases'\u001b[0m\u001b[0;34m)\u001b[0m\u001b[0;34m\u001b[0m\u001b[0;34m\u001b[0m\u001b[0m\n\u001b[0m",
      "\u001b[0;32m~/anaconda3/lib/python3.8/site-packages/clickhouse_driver/dbapi/cursor.py\u001b[0m in \u001b[0;36mexecute\u001b[0;34m(self, operation, parameters)\u001b[0m\n\u001b[1;32m    115\u001b[0m \u001b[0;34m\u001b[0m\u001b[0m\n\u001b[1;32m    116\u001b[0m         \u001b[0;32mexcept\u001b[0m \u001b[0mDriverError\u001b[0m \u001b[0;32mas\u001b[0m \u001b[0morig\u001b[0m\u001b[0;34m:\u001b[0m\u001b[0;34m\u001b[0m\u001b[0;34m\u001b[0m\u001b[0m\n\u001b[0;32m--> 117\u001b[0;31m             \u001b[0;32mraise\u001b[0m \u001b[0mOperationalError\u001b[0m\u001b[0;34m(\u001b[0m\u001b[0morig\u001b[0m\u001b[0;34m)\u001b[0m\u001b[0;34m\u001b[0m\u001b[0;34m\u001b[0m\u001b[0m\n\u001b[0m\u001b[1;32m    118\u001b[0m \u001b[0;34m\u001b[0m\u001b[0m\n\u001b[1;32m    119\u001b[0m         \u001b[0mself\u001b[0m\u001b[0;34m.\u001b[0m\u001b[0m_process_response\u001b[0m\u001b[0;34m(\u001b[0m\u001b[0mresponse\u001b[0m\u001b[0;34m)\u001b[0m\u001b[0;34m\u001b[0m\u001b[0;34m\u001b[0m\u001b[0m\n",
      "\u001b[0;31mOperationalError\u001b[0m: Code: 210. Connection refused (localhost:9000)"
     ]
    }
   ],
   "source": [
    "cursor.execute('SHOW databases')"
   ]
  },
  {
   "cell_type": "code",
   "execution_count": 66,
   "id": "35b38054",
   "metadata": {
    "scrolled": true
   },
   "outputs": [
    {
     "name": "stderr",
     "output_type": "stream",
     "text": [
      "Failed to connect to localhost:9000\n",
      "Traceback (most recent call last):\n",
      "  File \"/home/chaitanya/anaconda3/lib/python3.8/site-packages/clickhouse_driver/connection.py\", line 318, in connect\n",
      "    return self._init_connection(host, port)\n",
      "  File \"/home/chaitanya/anaconda3/lib/python3.8/site-packages/clickhouse_driver/connection.py\", line 282, in _init_connection\n",
      "    self.socket = self._create_socket(host, port)\n",
      "  File \"/home/chaitanya/anaconda3/lib/python3.8/site-packages/clickhouse_driver/connection.py\", line 254, in _create_socket\n",
      "    raise err\n",
      "  File \"/home/chaitanya/anaconda3/lib/python3.8/site-packages/clickhouse_driver/connection.py\", line 245, in _create_socket\n",
      "    sock.connect(sa)\n",
      "ConnectionRefusedError: [Errno 111] Connection refused\n"
     ]
    },
    {
     "ename": "NetworkError",
     "evalue": "Code: 210. Connection refused (localhost:9000)",
     "output_type": "error",
     "traceback": [
      "\u001b[0;31m---------------------------------------------------------------------------\u001b[0m",
      "\u001b[0;31mNetworkError\u001b[0m                              Traceback (most recent call last)",
      "\u001b[0;32m<ipython-input-66-e30fb4aaacfd>\u001b[0m in \u001b[0;36m<module>\u001b[0;34m\u001b[0m\n\u001b[0;32m----> 1\u001b[0;31m \u001b[0mclient\u001b[0m\u001b[0;34m.\u001b[0m\u001b[0mexecute\u001b[0m\u001b[0;34m(\u001b[0m\u001b[0;34m'SHOW databses'\u001b[0m\u001b[0;34m)\u001b[0m\u001b[0;34m\u001b[0m\u001b[0;34m\u001b[0m\u001b[0m\n\u001b[0m",
      "\u001b[0;32m~/anaconda3/lib/python3.8/site-packages/clickhouse_driver/client.py\u001b[0m in \u001b[0;36mexecute\u001b[0;34m(self, query, params, with_column_types, external_tables, query_id, settings, types_check, columnar)\u001b[0m\n\u001b[1;32m    250\u001b[0m         \u001b[0mstart_time\u001b[0m \u001b[0;34m=\u001b[0m \u001b[0mtime\u001b[0m\u001b[0;34m(\u001b[0m\u001b[0;34m)\u001b[0m\u001b[0;34m\u001b[0m\u001b[0;34m\u001b[0m\u001b[0m\n\u001b[1;32m    251\u001b[0m         \u001b[0mself\u001b[0m\u001b[0;34m.\u001b[0m\u001b[0mmake_query_settings\u001b[0m\u001b[0;34m(\u001b[0m\u001b[0msettings\u001b[0m\u001b[0;34m)\u001b[0m\u001b[0;34m\u001b[0m\u001b[0;34m\u001b[0m\u001b[0m\n\u001b[0;32m--> 252\u001b[0;31m         \u001b[0mself\u001b[0m\u001b[0;34m.\u001b[0m\u001b[0mconnection\u001b[0m\u001b[0;34m.\u001b[0m\u001b[0mforce_connect\u001b[0m\u001b[0;34m(\u001b[0m\u001b[0;34m)\u001b[0m\u001b[0;34m\u001b[0m\u001b[0;34m\u001b[0m\u001b[0m\n\u001b[0m\u001b[1;32m    253\u001b[0m         \u001b[0mself\u001b[0m\u001b[0;34m.\u001b[0m\u001b[0mlast_query\u001b[0m \u001b[0;34m=\u001b[0m \u001b[0mQueryInfo\u001b[0m\u001b[0;34m(\u001b[0m\u001b[0;34m)\u001b[0m\u001b[0;34m\u001b[0m\u001b[0;34m\u001b[0m\u001b[0m\n\u001b[1;32m    254\u001b[0m \u001b[0;34m\u001b[0m\u001b[0m\n",
      "\u001b[0;32m~/anaconda3/lib/python3.8/site-packages/clickhouse_driver/connection.py\u001b[0m in \u001b[0;36mforce_connect\u001b[0;34m(self)\u001b[0m\n\u001b[1;32m    210\u001b[0m     \u001b[0;32mdef\u001b[0m \u001b[0mforce_connect\u001b[0m\u001b[0;34m(\u001b[0m\u001b[0mself\u001b[0m\u001b[0;34m)\u001b[0m\u001b[0;34m:\u001b[0m\u001b[0;34m\u001b[0m\u001b[0;34m\u001b[0m\u001b[0m\n\u001b[1;32m    211\u001b[0m         \u001b[0;32mif\u001b[0m \u001b[0;32mnot\u001b[0m \u001b[0mself\u001b[0m\u001b[0;34m.\u001b[0m\u001b[0mconnected\u001b[0m\u001b[0;34m:\u001b[0m\u001b[0;34m\u001b[0m\u001b[0;34m\u001b[0m\u001b[0m\n\u001b[0;32m--> 212\u001b[0;31m             \u001b[0mself\u001b[0m\u001b[0;34m.\u001b[0m\u001b[0mconnect\u001b[0m\u001b[0;34m(\u001b[0m\u001b[0;34m)\u001b[0m\u001b[0;34m\u001b[0m\u001b[0;34m\u001b[0m\u001b[0m\n\u001b[0m\u001b[1;32m    213\u001b[0m \u001b[0;34m\u001b[0m\u001b[0m\n\u001b[1;32m    214\u001b[0m         \u001b[0;32melif\u001b[0m \u001b[0;32mnot\u001b[0m \u001b[0mself\u001b[0m\u001b[0;34m.\u001b[0m\u001b[0mping\u001b[0m\u001b[0;34m(\u001b[0m\u001b[0;34m)\u001b[0m\u001b[0;34m:\u001b[0m\u001b[0;34m\u001b[0m\u001b[0;34m\u001b[0m\u001b[0m\n",
      "\u001b[0;32m~/anaconda3/lib/python3.8/site-packages/clickhouse_driver/connection.py\u001b[0m in \u001b[0;36mconnect\u001b[0;34m(self)\u001b[0m\n\u001b[1;32m    337\u001b[0m \u001b[0;34m\u001b[0m\u001b[0m\n\u001b[1;32m    338\u001b[0m         \u001b[0;32mif\u001b[0m \u001b[0merr\u001b[0m \u001b[0;32mis\u001b[0m \u001b[0;32mnot\u001b[0m \u001b[0;32mNone\u001b[0m\u001b[0;34m:\u001b[0m\u001b[0;34m\u001b[0m\u001b[0;34m\u001b[0m\u001b[0m\n\u001b[0;32m--> 339\u001b[0;31m             \u001b[0;32mraise\u001b[0m \u001b[0merr\u001b[0m\u001b[0;34m\u001b[0m\u001b[0;34m\u001b[0m\u001b[0m\n\u001b[0m\u001b[1;32m    340\u001b[0m \u001b[0;34m\u001b[0m\u001b[0m\n\u001b[1;32m    341\u001b[0m     \u001b[0;32mdef\u001b[0m \u001b[0mreset_state\u001b[0m\u001b[0;34m(\u001b[0m\u001b[0mself\u001b[0m\u001b[0;34m)\u001b[0m\u001b[0;34m:\u001b[0m\u001b[0;34m\u001b[0m\u001b[0;34m\u001b[0m\u001b[0m\n",
      "\u001b[0;31mNetworkError\u001b[0m: Code: 210. Connection refused (localhost:9000)"
     ]
    }
   ],
   "source": [
    "client.execute('SHOW databses')"
   ]
  },
  {
   "cell_type": "code",
   "execution_count": 37,
   "id": "267795e7",
   "metadata": {},
   "outputs": [
    {
     "name": "stdout",
     "output_type": "stream",
     "text": [
      "None\n"
     ]
    }
   ],
   "source": [
    "import os\n",
    "print(os.getenv(\"CLICKHOUSE_ADDRESS\"))"
   ]
  },
  {
   "cell_type": "code",
   "execution_count": null,
   "id": "1af1f7f9",
   "metadata": {},
   "outputs": [],
   "source": [
    "create table IF NOT EXISTS test(crime Float32, time DateTime('Europe/Moscow') ) ENGINE = MergeTree() ORDER BY time"
   ]
  },
  {
   "cell_type": "code",
   "execution_count": null,
   "id": "018b2231",
   "metadata": {},
   "outputs": [],
   "source": [
    "INSERT INTO test (crime, time) VALUES (1, '2021-06-09 12:12:12') ;\n"
   ]
  },
  {
   "cell_type": "code",
   "execution_count": null,
   "id": "03d69667",
   "metadata": {},
   "outputs": [],
   "source": []
  },
  {
   "cell_type": "code",
   "execution_count": null,
   "id": "cb243f36",
   "metadata": {},
   "outputs": [],
   "source": []
  },
  {
   "cell_type": "code",
   "execution_count": null,
   "id": "1b63a90f",
   "metadata": {},
   "outputs": [],
   "source": []
  },
  {
   "cell_type": "code",
   "execution_count": null,
   "id": "50ce6e6e",
   "metadata": {},
   "outputs": [],
   "source": []
  }
 ],
 "metadata": {
  "kernelspec": {
   "display_name": "Python 3",
   "language": "python",
   "name": "python3"
  },
  "language_info": {
   "codemirror_mode": {
    "name": "ipython",
    "version": 3
   },
   "file_extension": ".py",
   "mimetype": "text/x-python",
   "name": "python",
   "nbconvert_exporter": "python",
   "pygments_lexer": "ipython3",
   "version": "3.8.5"
  }
 },
 "nbformat": 4,
 "nbformat_minor": 5
}
