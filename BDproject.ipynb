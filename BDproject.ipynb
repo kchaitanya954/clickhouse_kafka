{
 "cells": [
  {
   "cell_type": "code",
   "execution_count": 1,
   "metadata": {},
   "outputs": [],
   "source": [
    "import numpy as np\n",
    "import sys\n",
    "import time\n",
    "from clickhouse_driver import Client, connect"
   ]
  },
  {
   "cell_type": "code",
   "execution_count": 8,
   "metadata": {},
   "outputs": [],
   "source": [
    "client = Client('localhost')"
   ]
  },
  {
   "cell_type": "code",
   "execution_count": 9,
   "metadata": {
    "scrolled": true
   },
   "outputs": [
    {
     "name": "stderr",
     "output_type": "stream",
     "text": [
      "Failed to connect to localhost:9000\n",
      "Traceback (most recent call last):\n",
      "  File \"/home/chaitanya/anaconda3/lib/python3.8/site-packages/clickhouse_driver/connection.py\", line 318, in connect\n",
      "    return self._init_connection(host, port)\n",
      "  File \"/home/chaitanya/anaconda3/lib/python3.8/site-packages/clickhouse_driver/connection.py\", line 282, in _init_connection\n",
      "    self.socket = self._create_socket(host, port)\n",
      "  File \"/home/chaitanya/anaconda3/lib/python3.8/site-packages/clickhouse_driver/connection.py\", line 254, in _create_socket\n",
      "    raise err\n",
      "  File \"/home/chaitanya/anaconda3/lib/python3.8/site-packages/clickhouse_driver/connection.py\", line 245, in _create_socket\n",
      "    sock.connect(sa)\n",
      "ConnectionRefusedError: [Errno 111] Connection refused\n"
     ]
    },
    {
     "ename": "NetworkError",
     "evalue": "Code: 210. Connection refused (localhost:9000)",
     "output_type": "error",
     "traceback": [
      "\u001b[0;31m---------------------------------------------------------------------------\u001b[0m",
      "\u001b[0;31mNetworkError\u001b[0m                              Traceback (most recent call last)",
      "\u001b[0;32m<ipython-input-9-3e1f5862174d>\u001b[0m in \u001b[0;36m<module>\u001b[0;34m\u001b[0m\n\u001b[0;32m----> 1\u001b[0;31m \u001b[0mclient\u001b[0m\u001b[0;34m.\u001b[0m\u001b[0mexecute\u001b[0m\u001b[0;34m(\u001b[0m\u001b[0;34m'show databases'\u001b[0m\u001b[0;34m)\u001b[0m\u001b[0;34m\u001b[0m\u001b[0;34m\u001b[0m\u001b[0m\n\u001b[0m",
      "\u001b[0;32m~/anaconda3/lib/python3.8/site-packages/clickhouse_driver/client.py\u001b[0m in \u001b[0;36mexecute\u001b[0;34m(self, query, params, with_column_types, external_tables, query_id, settings, types_check, columnar)\u001b[0m\n\u001b[1;32m    250\u001b[0m         \u001b[0mstart_time\u001b[0m \u001b[0;34m=\u001b[0m \u001b[0mtime\u001b[0m\u001b[0;34m(\u001b[0m\u001b[0;34m)\u001b[0m\u001b[0;34m\u001b[0m\u001b[0;34m\u001b[0m\u001b[0m\n\u001b[1;32m    251\u001b[0m         \u001b[0mself\u001b[0m\u001b[0;34m.\u001b[0m\u001b[0mmake_query_settings\u001b[0m\u001b[0;34m(\u001b[0m\u001b[0msettings\u001b[0m\u001b[0;34m)\u001b[0m\u001b[0;34m\u001b[0m\u001b[0;34m\u001b[0m\u001b[0m\n\u001b[0;32m--> 252\u001b[0;31m         \u001b[0mself\u001b[0m\u001b[0;34m.\u001b[0m\u001b[0mconnection\u001b[0m\u001b[0;34m.\u001b[0m\u001b[0mforce_connect\u001b[0m\u001b[0;34m(\u001b[0m\u001b[0;34m)\u001b[0m\u001b[0;34m\u001b[0m\u001b[0;34m\u001b[0m\u001b[0m\n\u001b[0m\u001b[1;32m    253\u001b[0m         \u001b[0mself\u001b[0m\u001b[0;34m.\u001b[0m\u001b[0mlast_query\u001b[0m \u001b[0;34m=\u001b[0m \u001b[0mQueryInfo\u001b[0m\u001b[0;34m(\u001b[0m\u001b[0;34m)\u001b[0m\u001b[0;34m\u001b[0m\u001b[0;34m\u001b[0m\u001b[0m\n\u001b[1;32m    254\u001b[0m \u001b[0;34m\u001b[0m\u001b[0m\n",
      "\u001b[0;32m~/anaconda3/lib/python3.8/site-packages/clickhouse_driver/connection.py\u001b[0m in \u001b[0;36mforce_connect\u001b[0;34m(self)\u001b[0m\n\u001b[1;32m    210\u001b[0m     \u001b[0;32mdef\u001b[0m \u001b[0mforce_connect\u001b[0m\u001b[0;34m(\u001b[0m\u001b[0mself\u001b[0m\u001b[0;34m)\u001b[0m\u001b[0;34m:\u001b[0m\u001b[0;34m\u001b[0m\u001b[0;34m\u001b[0m\u001b[0m\n\u001b[1;32m    211\u001b[0m         \u001b[0;32mif\u001b[0m \u001b[0;32mnot\u001b[0m \u001b[0mself\u001b[0m\u001b[0;34m.\u001b[0m\u001b[0mconnected\u001b[0m\u001b[0;34m:\u001b[0m\u001b[0;34m\u001b[0m\u001b[0;34m\u001b[0m\u001b[0m\n\u001b[0;32m--> 212\u001b[0;31m             \u001b[0mself\u001b[0m\u001b[0;34m.\u001b[0m\u001b[0mconnect\u001b[0m\u001b[0;34m(\u001b[0m\u001b[0;34m)\u001b[0m\u001b[0;34m\u001b[0m\u001b[0;34m\u001b[0m\u001b[0m\n\u001b[0m\u001b[1;32m    213\u001b[0m \u001b[0;34m\u001b[0m\u001b[0m\n\u001b[1;32m    214\u001b[0m         \u001b[0;32melif\u001b[0m \u001b[0;32mnot\u001b[0m \u001b[0mself\u001b[0m\u001b[0;34m.\u001b[0m\u001b[0mping\u001b[0m\u001b[0;34m(\u001b[0m\u001b[0;34m)\u001b[0m\u001b[0;34m:\u001b[0m\u001b[0;34m\u001b[0m\u001b[0;34m\u001b[0m\u001b[0m\n",
      "\u001b[0;32m~/anaconda3/lib/python3.8/site-packages/clickhouse_driver/connection.py\u001b[0m in \u001b[0;36mconnect\u001b[0;34m(self)\u001b[0m\n\u001b[1;32m    337\u001b[0m \u001b[0;34m\u001b[0m\u001b[0m\n\u001b[1;32m    338\u001b[0m         \u001b[0;32mif\u001b[0m \u001b[0merr\u001b[0m \u001b[0;32mis\u001b[0m \u001b[0;32mnot\u001b[0m \u001b[0;32mNone\u001b[0m\u001b[0;34m:\u001b[0m\u001b[0;34m\u001b[0m\u001b[0;34m\u001b[0m\u001b[0m\n\u001b[0;32m--> 339\u001b[0;31m             \u001b[0;32mraise\u001b[0m \u001b[0merr\u001b[0m\u001b[0;34m\u001b[0m\u001b[0;34m\u001b[0m\u001b[0m\n\u001b[0m\u001b[1;32m    340\u001b[0m \u001b[0;34m\u001b[0m\u001b[0m\n\u001b[1;32m    341\u001b[0m     \u001b[0;32mdef\u001b[0m \u001b[0mreset_state\u001b[0m\u001b[0;34m(\u001b[0m\u001b[0mself\u001b[0m\u001b[0;34m)\u001b[0m\u001b[0;34m:\u001b[0m\u001b[0;34m\u001b[0m\u001b[0;34m\u001b[0m\u001b[0m\n",
      "\u001b[0;31mNetworkError\u001b[0m: Code: 210. Connection refused (localhost:9000)"
     ]
    }
   ],
   "source": [
    "client.execute('show databases')"
   ]
  },
  {
   "cell_type": "code",
   "execution_count": 10,
   "metadata": {},
   "outputs": [
    {
     "data": {
      "text/plain": [
       "[]"
      ]
     },
     "execution_count": 10,
     "metadata": {},
     "output_type": "execute_result"
    }
   ],
   "source": [
    "client.execute('use bd')"
   ]
  },
  {
   "cell_type": "code",
   "execution_count": 68,
   "metadata": {},
   "outputs": [
    {
     "data": {
      "text/plain": [
       "[]"
      ]
     },
     "execution_count": 68,
     "metadata": {},
     "output_type": "execute_result"
    }
   ],
   "source": [
    "client.execute('show tables')"
   ]
  },
  {
   "cell_type": "code",
   "execution_count": 30,
   "metadata": {},
   "outputs": [
    {
     "data": {
      "text/plain": [
       "'2021-06-06 19:16:34'"
      ]
     },
     "execution_count": 30,
     "metadata": {},
     "output_type": "execute_result"
    }
   ],
   "source": [
    "import datetime\n",
    "today = datetime.datetime.now()\n",
    "\n",
    "(today.strftime(\"%Y-%m-%d %H:%M:%S\"))\n",
    "# str(today)"
   ]
  },
  {
   "cell_type": "code",
   "execution_count": 15,
   "metadata": {},
   "outputs": [],
   "source": [
    "def genDict(news = 'BBC'): \n",
    "    randList = np.random.dirichlet(np.ones(6),size=1)[0]\n",
    "    maxList = [0]*6\n",
    "    maxInd = np.argmax(randList)\n",
    "    maxList[maxInd] = 1\n",
    "    today = datetime.datetime.now()\n",
    "    time = today.strftime(\"%Y-%m-%d %H:%M:%S\")\n",
    "    \n",
    "    events = [\"others\", \"sports\", \"crime\", \"covid\", \"Business\", \"Political\"]\n",
    "    eventDict = dict(zip(events, maxList))\n",
    "    eventPred_dict = dict(zip(events, randList))\n",
    "    finalDict = {\"time\": time, \"channel\": news ,\"event\": eventDict, \"eventPred\": eventPred_dict }\n",
    "    # print(eventDict)\n",
    "    # time.sleep(1)\n",
    "    return finalDict"
   ]
  },
  {
   "cell_type": "code",
   "execution_count": 16,
   "metadata": {},
   "outputs": [
    {
     "data": {
      "text/plain": [
       "{'time': '2021-06-06 22:43:36',\n",
       " 'channel': 'BBC',\n",
       " 'event': {'others': 0,\n",
       "  'sports': 0,\n",
       "  'crime': 0,\n",
       "  'covid': 0,\n",
       "  'Business': 1,\n",
       "  'Political': 0},\n",
       " 'eventPred': {'others': 0.041075786181733596,\n",
       "  'sports': 0.27013367954693196,\n",
       "  'crime': 0.2577574055278343,\n",
       "  'covid': 0.03408552779598859,\n",
       "  'Business': 0.30582440725657467,\n",
       "  'Political': 0.09112319369093673}}"
      ]
     },
     "execution_count": 16,
     "metadata": {},
     "output_type": "execute_result"
    }
   ],
   "source": [
    "genDict()"
   ]
  },
  {
   "cell_type": "code",
   "execution_count": null,
   "metadata": {},
   "outputs": [],
   "source": [
    "client.execute(\"create table IF NOT EXISTS news(time DateTime('Europe/Moscow'), \\\n",
    "channel String, \\\n",
    "eventPred Nested\\\n",
    "(\\\n",
    "others Float32, \\\n",
    "sports Float32, \\\n",
    "crime Float32,\\\n",
    "covid Float32, \\\n",
    "Business Float32, \\\n",
    "Political Float32\\\n",
    "), \\\n",
    "event Nested\\\n",
    "(\\\n",
    "others UInt8, \\\n",
    "sports UInt8, \\\n",
    "crime UInt8,\\\n",
    "covid UInt8, \\\n",
    "Business UInt8, \\\n",
    "Political UInt8\\\n",
    ") \\\n",
    "ENGINE = MergeTree() ORDER BY time\")"
   ]
  },
  {
   "cell_type": "code",
   "execution_count": null,
   "metadata": {},
   "outputs": [],
   "source": [
    "client.execute(\"create table IF NOT EXISTS news_kafka(time DateTime('Europe/Moscow'), \\\n",
    "channel String, \\\n",
    "eventPred Nested\\\n",
    "(\\\n",
    "others Float32, \\\n",
    "sports Float32, \\\n",
    "crime Float32,\\\n",
    "covid Float32, \\\n",
    "Business Float32, \\\n",
    "Political Float32\\\n",
    "), \\\n",
    "event Nested\\\n",
    "(\\\n",
    "others UInt8, \\\n",
    "sports UInt8, \\\n",
    "crime UInt8,\\\n",
    "covid UInt8, \\\n",
    "Business UInt8, \\\n",
    "Political UInt8\\\n",
    ") \\\n",
    "ENGINE = Kafka('localhost:9092', 'news', 'Cgroup') \\\n",
    "SETTINGS kafka_format = 'JSONEachRow', kafka_row_delimiter = '\\n';\")\")"
   ]
  },
  {
   "cell_type": "code",
   "execution_count": null,
   "metadata": {},
   "outputs": [],
   "source": [
    "client.execute(\"CREATE MATERIALIZED VIEW bd.mv_news_kafka TO bd.news AS SELECT * FROM bd.news_kafka;\")"
   ]
  },
  {
   "cell_type": "code",
   "execution_count": 17,
   "metadata": {},
   "outputs": [
    {
     "name": "stdout",
     "output_type": "stream",
     "text": [
      "{'time': '2021-06-06 22:43:50', 'channel': 'BBC', 'event': {'others': 0, 'sports': 0, 'crime': 0, 'covid': 0, 'Business': 0, 'Political': 1}, 'eventPred': {'others': 0.05952426533355135, 'sports': 0.12403592593464254, 'crime': 0.2150439585806215, 'covid': 0.1348644835814176, 'Business': 0.2299475613243681, 'Political': 0.23658380524539893}}\n",
      "{'time': '2021-06-06 22:43:51', 'channel': 'BBC', 'event': {'others': 0, 'sports': 0, 'crime': 0, 'covid': 0, 'Business': 0, 'Political': 1}, 'eventPred': {'others': 0.14024166070534821, 'sports': 0.2132038412437504, 'crime': 0.20310351874500662, 'covid': 0.02000662789057691, 'Business': 0.024427684979183406, 'Political': 0.3990166664361344}}\n",
      "{'time': '2021-06-06 22:43:52', 'channel': 'BBC', 'event': {'others': 1, 'sports': 0, 'crime': 0, 'covid': 0, 'Business': 0, 'Political': 0}, 'eventPred': {'others': 0.2682527531227151, 'sports': 0.20346719070938668, 'crime': 0.02740594768795189, 'covid': 0.23724227196212946, 'Business': 0.12766067818605709, 'Political': 0.13597115833175988}}\n",
      "{'time': '2021-06-06 22:43:53', 'channel': 'BBC', 'event': {'others': 0, 'sports': 1, 'crime': 0, 'covid': 0, 'Business': 0, 'Political': 0}, 'eventPred': {'others': 0.13633685628642822, 'sports': 0.5458716773823046, 'crime': 0.07369266858424442, 'covid': 0.07422516009449603, 'Business': 0.14545638258977572, 'Political': 0.024417255062750918}}\n",
      "{'time': '2021-06-06 22:43:54', 'channel': 'BBC', 'event': {'others': 0, 'sports': 0, 'crime': 0, 'covid': 1, 'Business': 0, 'Political': 0}, 'eventPred': {'others': 0.20361359257069594, 'sports': 0.04455861857800836, 'crime': 0.009695342693552685, 'covid': 0.4052414463505427, 'Business': 0.02489632415876864, 'Political': 0.31199467564843153}}\n",
      "{'time': '2021-06-06 22:43:55', 'channel': 'BBC', 'event': {'others': 0, 'sports': 1, 'crime': 0, 'covid': 0, 'Business': 0, 'Political': 0}, 'eventPred': {'others': 0.036820214071596635, 'sports': 0.5105518017523468, 'crime': 0.2664146732299165, 'covid': 0.0428622335038368, 'Business': 0.13834949346522396, 'Political': 0.005001583977079451}}\n",
      "{'time': '2021-06-06 22:43:56', 'channel': 'BBC', 'event': {'others': 0, 'sports': 0, 'crime': 0, 'covid': 1, 'Business': 0, 'Political': 0}, 'eventPred': {'others': 0.21917064301080508, 'sports': 0.07555359855651536, 'crime': 0.11567823440411545, 'covid': 0.32518095368753497, 'Business': 0.04784712121674728, 'Political': 0.216569449124282}}\n",
      "{'time': '2021-06-06 22:43:57', 'channel': 'BBC', 'event': {'others': 0, 'sports': 0, 'crime': 1, 'covid': 0, 'Business': 0, 'Political': 0}, 'eventPred': {'others': 0.15807043696217846, 'sports': 0.09421165693959174, 'crime': 0.3420388855468234, 'covid': 0.03151050132493847, 'Business': 0.21945670945905799, 'Political': 0.15471180976740995}}\n",
      "{'time': '2021-06-06 22:43:58', 'channel': 'BBC', 'event': {'others': 0, 'sports': 0, 'crime': 1, 'covid': 0, 'Business': 0, 'Political': 0}, 'eventPred': {'others': 0.06128547946956413, 'sports': 0.036367774098913654, 'crime': 0.42775257253381704, 'covid': 0.08278576760519847, 'Business': 0.06538031168684649, 'Political': 0.3264280946056602}}\n",
      "{'time': '2021-06-06 22:43:59', 'channel': 'BBC', 'event': {'others': 0, 'sports': 0, 'crime': 0, 'covid': 1, 'Business': 0, 'Political': 0}, 'eventPred': {'others': 0.1875825225197482, 'sports': 0.004788913539432713, 'crime': 0.07713275991229904, 'covid': 0.37054590457523295, 'Business': 0.04760621803549562, 'Political': 0.3123436814177913}}\n",
      "{'time': '2021-06-06 22:44:00', 'channel': 'BBC', 'event': {'others': 0, 'sports': 0, 'crime': 0, 'covid': 1, 'Business': 0, 'Political': 0}, 'eventPred': {'others': 0.08765197514676809, 'sports': 0.19306949272780233, 'crime': 0.0032071808477691175, 'covid': 0.4446019186083451, 'Business': 0.21183999949137503, 'Political': 0.05962943317794036}}\n",
      "{'time': '2021-06-06 22:44:01', 'channel': 'BBC', 'event': {'others': 0, 'sports': 0, 'crime': 0, 'covid': 0, 'Business': 1, 'Political': 0}, 'eventPred': {'others': 0.03545995666006258, 'sports': 0.15309036131389497, 'crime': 0.06067980746878321, 'covid': 0.10178543989887212, 'Business': 0.46420190486564866, 'Political': 0.18478252979273838}}\n",
      "{'time': '2021-06-06 22:44:02', 'channel': 'BBC', 'event': {'others': 0, 'sports': 0, 'crime': 1, 'covid': 0, 'Business': 0, 'Political': 0}, 'eventPred': {'others': 0.09567368806167639, 'sports': 0.22662703757243327, 'crime': 0.3189192304334571, 'covid': 0.042530036672672696, 'Business': 0.05566582335590968, 'Political': 0.26058418390385096}}\n",
      "{'time': '2021-06-06 22:44:03', 'channel': 'BBC', 'event': {'others': 0, 'sports': 1, 'crime': 0, 'covid': 0, 'Business': 0, 'Political': 0}, 'eventPred': {'others': 0.2791221482505556, 'sports': 0.32739808315052044, 'crime': 0.03885006111740761, 'covid': 0.2352562172005042, 'Business': 0.05815016249630736, 'Political': 0.061223327784704705}}\n",
      "{'time': '2021-06-06 22:44:04', 'channel': 'BBC', 'event': {'others': 0, 'sports': 0, 'crime': 0, 'covid': 0, 'Business': 0, 'Political': 1}, 'eventPred': {'others': 0.0487180097661305, 'sports': 0.15348361387162654, 'crime': 0.17410396836198438, 'covid': 0.1067081717312338, 'Business': 0.24634131041750965, 'Political': 0.2706449258515151}}\n",
      "{'time': '2021-06-06 22:44:05', 'channel': 'BBC', 'event': {'others': 0, 'sports': 0, 'crime': 0, 'covid': 0, 'Business': 1, 'Political': 0}, 'eventPred': {'others': 0.023174919513569175, 'sports': 0.14628347609299414, 'crime': 0.1659957993992299, 'covid': 0.25579157794493335, 'Business': 0.26927746315037737, 'Political': 0.13947676389889602}}\n",
      "{'time': '2021-06-06 22:44:06', 'channel': 'BBC', 'event': {'others': 0, 'sports': 0, 'crime': 0, 'covid': 1, 'Business': 0, 'Political': 0}, 'eventPred': {'others': 0.2367687097609839, 'sports': 0.27483227843820823, 'crime': 0.02061271642565129, 'covid': 0.2906441662099003, 'Business': 0.014060681782592161, 'Political': 0.16308144738266397}}\n",
      "{'time': '2021-06-06 22:44:07', 'channel': 'BBC', 'event': {'others': 1, 'sports': 0, 'crime': 0, 'covid': 0, 'Business': 0, 'Political': 0}, 'eventPred': {'others': 0.5361019658754941, 'sports': 0.17605714787462115, 'crime': 0.05927890610014257, 'covid': 0.029382585788459196, 'Business': 0.11953073561942729, 'Political': 0.07964865874185575}}\n",
      "{'time': '2021-06-06 22:44:08', 'channel': 'BBC', 'event': {'others': 0, 'sports': 0, 'crime': 1, 'covid': 0, 'Business': 0, 'Political': 0}, 'eventPred': {'others': 0.07692840147855849, 'sports': 0.078906924933896, 'crime': 0.5974251623105987, 'covid': 0.05026383010182369, 'Business': 0.181589146385549, 'Political': 0.014886534789574121}}\n",
      "{'time': '2021-06-06 22:44:09', 'channel': 'BBC', 'event': {'others': 0, 'sports': 0, 'crime': 0, 'covid': 1, 'Business': 0, 'Political': 0}, 'eventPred': {'others': 0.18552341246294093, 'sports': 0.20112589378292056, 'crime': 0.07702722786189536, 'covid': 0.44192974995547796, 'Business': 0.04802461122544277, 'Political': 0.04636910471132253}}\n",
      "{'time': '2021-06-06 22:44:10', 'channel': 'BBC', 'event': {'others': 0, 'sports': 0, 'crime': 0, 'covid': 1, 'Business': 0, 'Political': 0}, 'eventPred': {'others': 0.1771042966756421, 'sports': 0.11800729026743072, 'crime': 0.08796691723765843, 'covid': 0.4964911014269373, 'Business': 0.08434542316934311, 'Political': 0.03608497122298829}}\n",
      "{'time': '2021-06-06 22:44:11', 'channel': 'BBC', 'event': {'others': 0, 'sports': 0, 'crime': 0, 'covid': 0, 'Business': 1, 'Political': 0}, 'eventPred': {'others': 0.04034811106777899, 'sports': 0.06007961484641205, 'crime': 0.04266950597251039, 'covid': 0.357729496609301, 'Business': 0.405448804743124, 'Political': 0.09372446676087369}}\n",
      "{'time': '2021-06-06 22:44:12', 'channel': 'BBC', 'event': {'others': 0, 'sports': 0, 'crime': 1, 'covid': 0, 'Business': 0, 'Political': 0}, 'eventPred': {'others': 0.02256164456858347, 'sports': 0.18152582111766233, 'crime': 0.3564133815422028, 'covid': 0.2692414742940641, 'Business': 0.04316733238159012, 'Political': 0.12709034609589723}}\n",
      "{'time': '2021-06-06 22:44:13', 'channel': 'BBC', 'event': {'others': 0, 'sports': 0, 'crime': 0, 'covid': 0, 'Business': 1, 'Political': 0}, 'eventPred': {'others': 0.2927320353643145, 'sports': 0.1390444141748486, 'crime': 0.04638509964517511, 'covid': 0.08089611443121285, 'Business': 0.43794890664526365, 'Political': 0.0029934297391852804}}\n"
     ]
    },
    {
     "name": "stdout",
     "output_type": "stream",
     "text": [
      "{'time': '2021-06-06 22:44:14', 'channel': 'BBC', 'event': {'others': 0, 'sports': 0, 'crime': 0, 'covid': 0, 'Business': 1, 'Political': 0}, 'eventPred': {'others': 0.027538472791328886, 'sports': 0.27512527916223317, 'crime': 0.040751487007621046, 'covid': 0.052789223337431794, 'Business': 0.5567545686200471, 'Political': 0.047040969081337945}}\n",
      "{'time': '2021-06-06 22:44:15', 'channel': 'BBC', 'event': {'others': 1, 'sports': 0, 'crime': 0, 'covid': 0, 'Business': 0, 'Political': 0}, 'eventPred': {'others': 0.4892125787169421, 'sports': 0.09101379108845858, 'crime': 0.0862637469327807, 'covid': 0.24180833245417244, 'Business': 0.030834053934122967, 'Political': 0.06086749687352306}}\n",
      "{'time': '2021-06-06 22:44:16', 'channel': 'BBC', 'event': {'others': 1, 'sports': 0, 'crime': 0, 'covid': 0, 'Business': 0, 'Political': 0}, 'eventPred': {'others': 0.36495851873179663, 'sports': 0.012136736174855205, 'crime': 0.24297589492778973, 'covid': 0.07442300417327916, 'Business': 0.147608357770234, 'Political': 0.15789748822204516}}\n",
      "{'time': '2021-06-06 22:44:17', 'channel': 'BBC', 'event': {'others': 0, 'sports': 0, 'crime': 0, 'covid': 0, 'Business': 0, 'Political': 1}, 'eventPred': {'others': 0.017185210829552874, 'sports': 0.2613366057059789, 'crime': 0.0027779772847671045, 'covid': 0.09933213444476831, 'Business': 0.12077190652243054, 'Political': 0.49859616521250233}}\n",
      "{'time': '2021-06-06 22:44:18', 'channel': 'BBC', 'event': {'others': 0, 'sports': 0, 'crime': 1, 'covid': 0, 'Business': 0, 'Political': 0}, 'eventPred': {'others': 0.16194407698830565, 'sports': 0.13502023404042693, 'crime': 0.3918124470783751, 'covid': 0.17732898794026525, 'Business': 0.06075060116089112, 'Political': 0.07314365279173582}}\n",
      "{'time': '2021-06-06 22:44:19', 'channel': 'BBC', 'event': {'others': 0, 'sports': 0, 'crime': 0, 'covid': 0, 'Business': 0, 'Political': 1}, 'eventPred': {'others': 0.018492125480493445, 'sports': 0.14194288872489252, 'crime': 0.0922723524206862, 'covid': 0.15942958301689414, 'Business': 0.13958058497381684, 'Political': 0.44828246538321703}}\n",
      "{'time': '2021-06-06 22:44:20', 'channel': 'BBC', 'event': {'others': 0, 'sports': 0, 'crime': 0, 'covid': 0, 'Business': 1, 'Political': 0}, 'eventPred': {'others': 0.1391000672401528, 'sports': 0.10987838772613111, 'crime': 0.1759048793402072, 'covid': 0.11399074954606025, 'Business': 0.349519956418985, 'Political': 0.1116059597284637}}\n",
      "{'time': '2021-06-06 22:44:21', 'channel': 'BBC', 'event': {'others': 0, 'sports': 0, 'crime': 0, 'covid': 1, 'Business': 0, 'Political': 0}, 'eventPred': {'others': 0.16884612074274324, 'sports': 0.20235342341423126, 'crime': 0.03637428497950515, 'covid': 0.3555688103055992, 'Business': 0.08947411431901489, 'Political': 0.14738324623890617}}\n",
      "{'time': '2021-06-06 22:44:22', 'channel': 'BBC', 'event': {'others': 0, 'sports': 1, 'crime': 0, 'covid': 0, 'Business': 0, 'Political': 0}, 'eventPred': {'others': 0.024733428942756333, 'sports': 0.2771208130644638, 'crime': 0.1382743057235803, 'covid': 0.19519639927988902, 'Business': 0.18534432646076066, 'Political': 0.1793307265285499}}\n",
      "{'time': '2021-06-06 22:44:23', 'channel': 'BBC', 'event': {'others': 0, 'sports': 1, 'crime': 0, 'covid': 0, 'Business': 0, 'Political': 0}, 'eventPred': {'others': 0.058619205922686955, 'sports': 0.3908744728627962, 'crime': 0.1452811523575506, 'covid': 0.09987597701958269, 'Business': 0.043527563062593894, 'Political': 0.2618216287747896}}\n",
      "{'time': '2021-06-06 22:44:24', 'channel': 'BBC', 'event': {'others': 1, 'sports': 0, 'crime': 0, 'covid': 0, 'Business': 0, 'Political': 0}, 'eventPred': {'others': 0.3259411444117698, 'sports': 0.1440578898132832, 'crime': 0.0370455077104305, 'covid': 0.25178633546032175, 'Business': 0.05687904489576782, 'Political': 0.1842900777084268}}\n",
      "{'time': '2021-06-06 22:44:25', 'channel': 'BBC', 'event': {'others': 0, 'sports': 1, 'crime': 0, 'covid': 0, 'Business': 0, 'Political': 0}, 'eventPred': {'others': 0.1004512615597111, 'sports': 0.6101804121401634, 'crime': 0.04207644565207968, 'covid': 0.017503720748725245, 'Business': 0.1365696629287219, 'Political': 0.09321849697059864}}\n",
      "{'time': '2021-06-06 22:44:26', 'channel': 'BBC', 'event': {'others': 0, 'sports': 1, 'crime': 0, 'covid': 0, 'Business': 0, 'Political': 0}, 'eventPred': {'others': 0.03824600024668104, 'sports': 0.447911012011554, 'crime': 0.39339665276327224, 'covid': 0.009847363795439816, 'Business': 0.04624043772708819, 'Political': 0.0643585334559646}}\n",
      "{'time': '2021-06-06 22:44:27', 'channel': 'BBC', 'event': {'others': 0, 'sports': 1, 'crime': 0, 'covid': 0, 'Business': 0, 'Political': 0}, 'eventPred': {'others': 0.09318150975785475, 'sports': 0.387188197741137, 'crime': 0.102309537522984, 'covid': 0.055709974756427846, 'Business': 0.28608133325709023, 'Political': 0.07552944696450613}}\n",
      "{'time': '2021-06-06 22:44:28', 'channel': 'BBC', 'event': {'others': 0, 'sports': 0, 'crime': 1, 'covid': 0, 'Business': 0, 'Political': 0}, 'eventPred': {'others': 0.01656892438618764, 'sports': 0.12015881840301183, 'crime': 0.47423756638949294, 'covid': 0.23222514595039484, 'Business': 0.059894130279061944, 'Political': 0.0969154145918507}}\n",
      "{'time': '2021-06-06 22:44:29', 'channel': 'BBC', 'event': {'others': 0, 'sports': 0, 'crime': 0, 'covid': 1, 'Business': 0, 'Political': 0}, 'eventPred': {'others': 0.14265964092168937, 'sports': 0.1255555710496888, 'crime': 0.10901422807686272, 'covid': 0.35246584188493846, 'Business': 0.17606057615502857, 'Political': 0.09424414191179208}}\n",
      "{'time': '2021-06-06 22:44:30', 'channel': 'BBC', 'event': {'others': 0, 'sports': 0, 'crime': 0, 'covid': 1, 'Business': 0, 'Political': 0}, 'eventPred': {'others': 0.09351475000846521, 'sports': 0.010255061019666965, 'crime': 0.052458110161391666, 'covid': 0.47427067811246926, 'Business': 0.31808640660759463, 'Political': 0.05141499409041217}}\n",
      "{'time': '2021-06-06 22:44:31', 'channel': 'BBC', 'event': {'others': 0, 'sports': 0, 'crime': 1, 'covid': 0, 'Business': 0, 'Political': 0}, 'eventPred': {'others': 0.09588635354098048, 'sports': 0.04908209283198787, 'crime': 0.37618422336424817, 'covid': 0.3561530581738832, 'Business': 0.0819859638490401, 'Political': 0.040708308239860165}}\n",
      "{'time': '2021-06-06 22:44:32', 'channel': 'BBC', 'event': {'others': 0, 'sports': 0, 'crime': 1, 'covid': 0, 'Business': 0, 'Political': 0}, 'eventPred': {'others': 0.03993873800871585, 'sports': 0.17357036539113527, 'crime': 0.3935702313060711, 'covid': 0.0030229570103732966, 'Business': 0.2583904586326308, 'Political': 0.13150724965107363}}\n",
      "{'time': '2021-06-06 22:44:33', 'channel': 'BBC', 'event': {'others': 0, 'sports': 0, 'crime': 0, 'covid': 0, 'Business': 0, 'Political': 1}, 'eventPred': {'others': 0.13689637491147963, 'sports': 0.2458754954692291, 'crime': 0.0023052101711663613, 'covid': 0.15738722521431403, 'Business': 0.17496738626235775, 'Political': 0.28256830797145294}}\n",
      "{'time': '2021-06-06 22:44:34', 'channel': 'BBC', 'event': {'others': 0, 'sports': 0, 'crime': 0, 'covid': 0, 'Business': 0, 'Political': 1}, 'eventPred': {'others': 0.3534715785506082, 'sports': 0.03751682308985533, 'crime': 0.04123623759159309, 'covid': 0.027454073104971607, 'Business': 0.11633079560785371, 'Political': 0.4239904920551182}}\n",
      "{'time': '2021-06-06 22:44:35', 'channel': 'BBC', 'event': {'others': 0, 'sports': 1, 'crime': 0, 'covid': 0, 'Business': 0, 'Political': 0}, 'eventPred': {'others': 0.012072264597741009, 'sports': 0.6151533296907135, 'crime': 0.034260994507748235, 'covid': 0.09200180116357097, 'Business': 0.19689976734990436, 'Political': 0.049611842690322025}}\n",
      "{'time': '2021-06-06 22:44:36', 'channel': 'BBC', 'event': {'others': 0, 'sports': 0, 'crime': 0, 'covid': 0, 'Business': 0, 'Political': 1}, 'eventPred': {'others': 0.06916344803772917, 'sports': 0.25658472053150383, 'crime': 0.13706055535435288, 'covid': 0.08571618137217227, 'Business': 0.04151561310792721, 'Political': 0.4099594815963146}}\n",
      "{'time': '2021-06-06 22:44:37', 'channel': 'BBC', 'event': {'others': 0, 'sports': 0, 'crime': 0, 'covid': 1, 'Business': 0, 'Political': 0}, 'eventPred': {'others': 0.13020637754197897, 'sports': 0.18263185358493578, 'crime': 0.08825448515977118, 'covid': 0.3190231481916563, 'Business': 0.10268798750445465, 'Political': 0.17719614801720315}}\n"
     ]
    },
    {
     "name": "stdout",
     "output_type": "stream",
     "text": [
      "{'time': '2021-06-06 22:44:38', 'channel': 'BBC', 'event': {'others': 0, 'sports': 0, 'crime': 0, 'covid': 0, 'Business': 1, 'Political': 0}, 'eventPred': {'others': 0.05259526466601368, 'sports': 0.13292961533988032, 'crime': 0.17281059845565375, 'covid': 0.23712994722474756, 'Business': 0.339728263015294, 'Political': 0.06480631129841065}}\n",
      "{'time': '2021-06-06 22:44:39', 'channel': 'BBC', 'event': {'others': 0, 'sports': 0, 'crime': 1, 'covid': 0, 'Business': 0, 'Political': 0}, 'eventPred': {'others': 0.0020463576185520116, 'sports': 0.020578225589921284, 'crime': 0.41014372709185987, 'covid': 0.1669742395937116, 'Business': 0.3868871158077043, 'Political': 0.01337033429825098}}\n",
      "{'time': '2021-06-06 22:44:40', 'channel': 'BBC', 'event': {'others': 1, 'sports': 0, 'crime': 0, 'covid': 0, 'Business': 0, 'Political': 0}, 'eventPred': {'others': 0.37012364997854974, 'sports': 0.32989525720849355, 'crime': 0.14613005013542657, 'covid': 0.025509032514608097, 'Business': 0.006809166638884565, 'Political': 0.12153284352403748}}\n",
      "{'time': '2021-06-06 22:44:41', 'channel': 'BBC', 'event': {'others': 0, 'sports': 0, 'crime': 0, 'covid': 0, 'Business': 1, 'Political': 0}, 'eventPred': {'others': 0.03830175997555841, 'sports': 0.1039267734809913, 'crime': 0.2761257165852807, 'covid': 0.2595473108452315, 'Business': 0.31578809530953, 'Political': 0.006310343803408081}}\n",
      "{'time': '2021-06-06 22:44:42', 'channel': 'BBC', 'event': {'others': 0, 'sports': 0, 'crime': 0, 'covid': 1, 'Business': 0, 'Political': 0}, 'eventPred': {'others': 0.32610117721651466, 'sports': 0.0346679987810775, 'crime': 0.042874510595622604, 'covid': 0.36273568139283086, 'Business': 0.0480864066770407, 'Political': 0.1855342253369137}}\n",
      "{'time': '2021-06-06 22:44:43', 'channel': 'BBC', 'event': {'others': 0, 'sports': 0, 'crime': 0, 'covid': 1, 'Business': 0, 'Political': 0}, 'eventPred': {'others': 0.14692787685546954, 'sports': 0.09100365074712831, 'crime': 0.079074315864945, 'covid': 0.4592534683858217, 'Business': 0.21987479034666477, 'Political': 0.003865897799970703}}\n",
      "{'time': '2021-06-06 22:44:44', 'channel': 'BBC', 'event': {'others': 0, 'sports': 0, 'crime': 0, 'covid': 1, 'Business': 0, 'Political': 0}, 'eventPred': {'others': 0.06408860009849034, 'sports': 0.3512584109200315, 'crime': 0.1546312744066307, 'covid': 0.3889486615090556, 'Business': 0.01782170357353029, 'Political': 0.02325134949226168}}\n",
      "{'time': '2021-06-06 22:44:45', 'channel': 'BBC', 'event': {'others': 0, 'sports': 0, 'crime': 1, 'covid': 0, 'Business': 0, 'Political': 0}, 'eventPred': {'others': 0.03732192625266295, 'sports': 0.15775262117763297, 'crime': 0.5548723795149225, 'covid': 0.07180158443034024, 'Business': 0.15355573065747974, 'Political': 0.024695757966961537}}\n",
      "{'time': '2021-06-06 22:44:46', 'channel': 'BBC', 'event': {'others': 0, 'sports': 0, 'crime': 0, 'covid': 0, 'Business': 1, 'Political': 0}, 'eventPred': {'others': 0.24939597265844818, 'sports': 0.23216225520950196, 'crime': 0.013000046432106846, 'covid': 0.027022895743964888, 'Business': 0.28928539336828896, 'Political': 0.18913343658768922}}\n",
      "{'time': '2021-06-06 22:44:47', 'channel': 'BBC', 'event': {'others': 0, 'sports': 0, 'crime': 0, 'covid': 0, 'Business': 1, 'Political': 0}, 'eventPred': {'others': 0.16773795236035563, 'sports': 0.17542676394765366, 'crime': 0.2503810274580114, 'covid': 0.04649575812994586, 'Business': 0.31718180830283516, 'Political': 0.042776689801198045}}\n",
      "{'time': '2021-06-06 22:44:48', 'channel': 'BBC', 'event': {'others': 0, 'sports': 0, 'crime': 0, 'covid': 0, 'Business': 1, 'Political': 0}, 'eventPred': {'others': 0.035312584030181476, 'sports': 0.07783239872376252, 'crime': 0.040942324128701774, 'covid': 0.04539648752012536, 'Business': 0.4042539879995832, 'Political': 0.3962622175976458}}\n",
      "{'time': '2021-06-06 22:44:49', 'channel': 'BBC', 'event': {'others': 0, 'sports': 0, 'crime': 0, 'covid': 0, 'Business': 1, 'Political': 0}, 'eventPred': {'others': 0.013800020425450593, 'sports': 0.03038159214235454, 'crime': 0.20859224385731914, 'covid': 0.19711630995298993, 'Business': 0.30506262988558897, 'Political': 0.24504720373629682}}\n",
      "{'time': '2021-06-06 22:44:50', 'channel': 'BBC', 'event': {'others': 0, 'sports': 0, 'crime': 0, 'covid': 0, 'Business': 1, 'Political': 0}, 'eventPred': {'others': 0.1480467183931274, 'sports': 0.018859335698493077, 'crime': 0.03353436473870817, 'covid': 0.23287535141854734, 'Business': 0.3829523395573758, 'Political': 0.18373189019374805}}\n",
      "{'time': '2021-06-06 22:44:51', 'channel': 'BBC', 'event': {'others': 0, 'sports': 1, 'crime': 0, 'covid': 0, 'Business': 0, 'Political': 0}, 'eventPred': {'others': 0.20702694888350287, 'sports': 0.38469796292540975, 'crime': 0.09744184795179993, 'covid': 0.29459928861716783, 'Business': 0.010981446375485605, 'Political': 0.0052525052466341}}\n",
      "{'time': '2021-06-06 22:44:52', 'channel': 'BBC', 'event': {'others': 0, 'sports': 0, 'crime': 0, 'covid': 0, 'Business': 1, 'Political': 0}, 'eventPred': {'others': 0.01872852900190941, 'sports': 0.06456957579915396, 'crime': 0.1320779034023325, 'covid': 0.011237412921246843, 'Business': 0.4699746496067979, 'Political': 0.3034119292685593}}\n",
      "{'time': '2021-06-06 22:44:53', 'channel': 'BBC', 'event': {'others': 0, 'sports': 0, 'crime': 0, 'covid': 0, 'Business': 0, 'Political': 1}, 'eventPred': {'others': 0.029168925317988235, 'sports': 0.03289814156364598, 'crime': 0.31291228612223415, 'covid': 0.046001197224865634, 'Business': 0.1705544203317649, 'Political': 0.4084650294395011}}\n",
      "{'time': '2021-06-06 22:44:54', 'channel': 'BBC', 'event': {'others': 1, 'sports': 0, 'crime': 0, 'covid': 0, 'Business': 0, 'Political': 0}, 'eventPred': {'others': 0.2987223097443603, 'sports': 0.13972169671780738, 'crime': 0.1644140323952185, 'covid': 0.20103380550373143, 'Business': 0.1357291283451762, 'Political': 0.06037902729370619}}\n",
      "{'time': '2021-06-06 22:44:55', 'channel': 'BBC', 'event': {'others': 0, 'sports': 0, 'crime': 0, 'covid': 1, 'Business': 0, 'Political': 0}, 'eventPred': {'others': 0.029590844892378215, 'sports': 0.024387053975631626, 'crime': 0.06438527188554335, 'covid': 0.43772772521870196, 'Business': 0.04704564104547637, 'Political': 0.3968634629822684}}\n",
      "{'time': '2021-06-06 22:44:56', 'channel': 'BBC', 'event': {'others': 0, 'sports': 0, 'crime': 1, 'covid': 0, 'Business': 0, 'Political': 0}, 'eventPred': {'others': 0.025415414810346808, 'sports': 0.10565632635030868, 'crime': 0.40600456603509766, 'covid': 0.08446768811813664, 'Business': 0.1661726893598068, 'Political': 0.21228331532630343}}\n",
      "{'time': '2021-06-06 22:44:57', 'channel': 'BBC', 'event': {'others': 0, 'sports': 0, 'crime': 0, 'covid': 0, 'Business': 1, 'Political': 0}, 'eventPred': {'others': 0.11698100370442027, 'sports': 0.045829251217266595, 'crime': 0.01630704248266325, 'covid': 0.29889667957415483, 'Business': 0.3887566477984673, 'Political': 0.1332293752230278}}\n",
      "{'time': '2021-06-06 22:44:58', 'channel': 'BBC', 'event': {'others': 0, 'sports': 0, 'crime': 0, 'covid': 0, 'Business': 0, 'Political': 1}, 'eventPred': {'others': 0.13510601396224087, 'sports': 0.193945649214783, 'crime': 0.18911706807573822, 'covid': 0.06428059785845697, 'Business': 0.14464848682693562, 'Political': 0.2729021840618452}}\n",
      "{'time': '2021-06-06 22:44:59', 'channel': 'BBC', 'event': {'others': 0, 'sports': 0, 'crime': 0, 'covid': 1, 'Business': 0, 'Political': 0}, 'eventPred': {'others': 0.18021146527419732, 'sports': 0.038543748560312736, 'crime': 0.29886590426786347, 'covid': 0.3031890749844883, 'Business': 0.141759185870647, 'Political': 0.03743062104249128}}\n",
      "{'time': '2021-06-06 22:45:00', 'channel': 'BBC', 'event': {'others': 0, 'sports': 0, 'crime': 0, 'covid': 1, 'Business': 0, 'Political': 0}, 'eventPred': {'others': 0.17746975253905148, 'sports': 0.2652668121226115, 'crime': 0.1600248712667987, 'covid': 0.3010606026220109, 'Business': 0.03439842662491573, 'Political': 0.06177953482461155}}\n",
      "{'time': '2021-06-06 22:45:01', 'channel': 'BBC', 'event': {'others': 1, 'sports': 0, 'crime': 0, 'covid': 0, 'Business': 0, 'Political': 0}, 'eventPred': {'others': 0.3753553729323272, 'sports': 0.1695873138986949, 'crime': 0.23518537397197342, 'covid': 0.060028738073240794, 'Business': 0.14631956548110048, 'Political': 0.013523635642663059}}\n"
     ]
    },
    {
     "name": "stdout",
     "output_type": "stream",
     "text": [
      "{'time': '2021-06-06 22:45:02', 'channel': 'BBC', 'event': {'others': 0, 'sports': 0, 'crime': 0, 'covid': 0, 'Business': 1, 'Political': 0}, 'eventPred': {'others': 0.13785747828967093, 'sports': 0.04544001465483671, 'crime': 0.3105609883175568, 'covid': 0.031136337683626916, 'Business': 0.37509619803796906, 'Political': 0.09990898301633959}}\n",
      "{'time': '2021-06-06 22:45:03', 'channel': 'BBC', 'event': {'others': 0, 'sports': 0, 'crime': 0, 'covid': 0, 'Business': 1, 'Political': 0}, 'eventPred': {'others': 0.005594132982257059, 'sports': 0.33143499644882124, 'crime': 0.08633642521709693, 'covid': 0.08072362297516975, 'Business': 0.41793862287520905, 'Political': 0.07797219950144609}}\n",
      "{'time': '2021-06-06 22:45:04', 'channel': 'BBC', 'event': {'others': 0, 'sports': 0, 'crime': 0, 'covid': 0, 'Business': 1, 'Political': 0}, 'eventPred': {'others': 0.2488404300220564, 'sports': 0.09999547381472182, 'crime': 0.01067221404684236, 'covid': 0.2330980826288222, 'Business': 0.31726758498917274, 'Political': 0.09012621449838434}}\n",
      "{'time': '2021-06-06 22:45:05', 'channel': 'BBC', 'event': {'others': 0, 'sports': 0, 'crime': 0, 'covid': 0, 'Business': 1, 'Political': 0}, 'eventPred': {'others': 0.2520709145353557, 'sports': 0.13541322538527514, 'crime': 0.1084762127754496, 'covid': 0.07922874237114774, 'Business': 0.3810035695108428, 'Political': 0.04380733542192897}}\n",
      "{'time': '2021-06-06 22:45:06', 'channel': 'BBC', 'event': {'others': 0, 'sports': 0, 'crime': 1, 'covid': 0, 'Business': 0, 'Political': 0}, 'eventPred': {'others': 0.11402871894004123, 'sports': 0.14191078569913387, 'crime': 0.38147829350855283, 'covid': 0.04050976145006317, 'Business': 0.13131808536342807, 'Political': 0.19075435503878085}}\n",
      "{'time': '2021-06-06 22:45:07', 'channel': 'BBC', 'event': {'others': 0, 'sports': 0, 'crime': 0, 'covid': 0, 'Business': 0, 'Political': 1}, 'eventPred': {'others': 0.030336111942665635, 'sports': 0.21197610995215477, 'crime': 0.027261087617255167, 'covid': 0.10710172336012797, 'Business': 0.11719838185571067, 'Political': 0.5061265852720859}}\n",
      "{'time': '2021-06-06 22:45:08', 'channel': 'BBC', 'event': {'others': 0, 'sports': 0, 'crime': 0, 'covid': 0, 'Business': 1, 'Political': 0}, 'eventPred': {'others': 0.09314116133990556, 'sports': 0.136239848088435, 'crime': 0.1011008626379114, 'covid': 0.26179428096560364, 'Business': 0.40696503867230777, 'Political': 0.0007588082958365777}}\n",
      "{'time': '2021-06-06 22:45:09', 'channel': 'BBC', 'event': {'others': 1, 'sports': 0, 'crime': 0, 'covid': 0, 'Business': 0, 'Political': 0}, 'eventPred': {'others': 0.3733989889259022, 'sports': 0.03381615119577533, 'crime': 0.28850684536087895, 'covid': 0.14343116128741404, 'Business': 0.06515065160346775, 'Political': 0.09569620162656171}}\n",
      "{'time': '2021-06-06 22:45:10', 'channel': 'BBC', 'event': {'others': 0, 'sports': 0, 'crime': 1, 'covid': 0, 'Business': 0, 'Political': 0}, 'eventPred': {'others': 0.1342950131597515, 'sports': 0.08498973327154062, 'crime': 0.5304441117537282, 'covid': 0.08825269845657145, 'Business': 0.12203560079604364, 'Political': 0.03998284256236477}}\n",
      "{'time': '2021-06-06 22:45:11', 'channel': 'BBC', 'event': {'others': 0, 'sports': 0, 'crime': 1, 'covid': 0, 'Business': 0, 'Political': 0}, 'eventPred': {'others': 0.06951252157216799, 'sports': 0.24800351658852746, 'crime': 0.2787892069188579, 'covid': 0.09985099494827468, 'Business': 0.05512608864074033, 'Political': 0.2487176713314317}}\n",
      "{'time': '2021-06-06 22:45:12', 'channel': 'BBC', 'event': {'others': 1, 'sports': 0, 'crime': 0, 'covid': 0, 'Business': 0, 'Political': 0}, 'eventPred': {'others': 0.42385273059001466, 'sports': 0.0008153511573004745, 'crime': 0.06660076786052226, 'covid': 0.33810382997018434, 'Business': 0.0065682254742231, 'Political': 0.16405909494775525}}\n",
      "{'time': '2021-06-06 22:45:13', 'channel': 'BBC', 'event': {'others': 0, 'sports': 0, 'crime': 0, 'covid': 0, 'Business': 1, 'Political': 0}, 'eventPred': {'others': 0.008017894808421085, 'sports': 0.018277164607304042, 'crime': 0.03166182330686944, 'covid': 0.2023971847492167, 'Business': 0.4274812457841825, 'Political': 0.31216468674400605}}\n",
      "{'time': '2021-06-06 22:45:14', 'channel': 'BBC', 'event': {'others': 0, 'sports': 0, 'crime': 0, 'covid': 1, 'Business': 0, 'Political': 0}, 'eventPred': {'others': 0.05871222041552373, 'sports': 0.023272518712926602, 'crime': 0.035878733782721925, 'covid': 0.40810942703121833, 'Business': 0.15037525858877623, 'Political': 0.32365184146883313}}\n",
      "{'time': '2021-06-06 22:45:15', 'channel': 'BBC', 'event': {'others': 0, 'sports': 0, 'crime': 0, 'covid': 0, 'Business': 1, 'Political': 0}, 'eventPred': {'others': 0.10218158489544328, 'sports': 0.12933323003297933, 'crime': 0.1491836804243753, 'covid': 0.017189009947867356, 'Business': 0.4183605288884008, 'Political': 0.18375196581093398}}\n",
      "{'time': '2021-06-06 22:45:16', 'channel': 'BBC', 'event': {'others': 0, 'sports': 0, 'crime': 1, 'covid': 0, 'Business': 0, 'Political': 0}, 'eventPred': {'others': 0.14137059741028524, 'sports': 0.10679035520578035, 'crime': 0.4301824373558015, 'covid': 0.18088382057404354, 'Business': 0.08733770257065415, 'Political': 0.05343508688343541}}\n",
      "{'time': '2021-06-06 22:45:17', 'channel': 'BBC', 'event': {'others': 0, 'sports': 1, 'crime': 0, 'covid': 0, 'Business': 0, 'Political': 0}, 'eventPred': {'others': 0.13615543311320946, 'sports': 0.4230880438059462, 'crime': 0.0928390895244378, 'covid': 0.05620381926624053, 'Business': 0.08986473822632346, 'Political': 0.2018488760638425}}\n",
      "{'time': '2021-06-06 22:45:18', 'channel': 'BBC', 'event': {'others': 0, 'sports': 0, 'crime': 0, 'covid': 0, 'Business': 0, 'Political': 1}, 'eventPred': {'others': 0.2330778049515704, 'sports': 0.11697610188560903, 'crime': 0.09679616713236293, 'covid': 0.14397858999144006, 'Business': 0.15046085953366783, 'Political': 0.2587104765053498}}\n",
      "{'time': '2021-06-06 22:45:19', 'channel': 'BBC', 'event': {'others': 0, 'sports': 0, 'crime': 0, 'covid': 1, 'Business': 0, 'Political': 0}, 'eventPred': {'others': 0.02118900952830015, 'sports': 0.088022359778334, 'crime': 0.2753699774907114, 'covid': 0.45769635780341944, 'Business': 0.11056860946607151, 'Political': 0.04715368593316325}}\n",
      "{'time': '2021-06-06 22:45:20', 'channel': 'BBC', 'event': {'others': 0, 'sports': 0, 'crime': 0, 'covid': 0, 'Business': 0, 'Political': 1}, 'eventPred': {'others': 0.10896158926184156, 'sports': 0.21213591436303486, 'crime': 0.28476961012375174, 'covid': 0.03674731957953395, 'Business': 0.05368314932921467, 'Political': 0.30370241734262315}}\n",
      "{'time': '2021-06-06 22:45:21', 'channel': 'BBC', 'event': {'others': 0, 'sports': 0, 'crime': 0, 'covid': 0, 'Business': 1, 'Political': 0}, 'eventPred': {'others': 0.033931947212376246, 'sports': 0.10817104967900139, 'crime': 0.15164730599745727, 'covid': 0.18407062752082573, 'Business': 0.44462130620706247, 'Political': 0.07755776338327697}}\n",
      "{'time': '2021-06-06 22:45:22', 'channel': 'BBC', 'event': {'others': 0, 'sports': 0, 'crime': 0, 'covid': 0, 'Business': 0, 'Political': 1}, 'eventPred': {'others': 0.17496060142240252, 'sports': 0.09265196759905897, 'crime': 0.0009816527038237583, 'covid': 0.034926777650743306, 'Business': 0.3337864073607759, 'Political': 0.3626925932631956}}\n",
      "{'time': '2021-06-06 22:45:23', 'channel': 'BBC', 'event': {'others': 0, 'sports': 0, 'crime': 0, 'covid': 0, 'Business': 0, 'Political': 1}, 'eventPred': {'others': 0.051710808736343254, 'sports': 0.25697650388549753, 'crime': 0.07156657324254452, 'covid': 0.001126289861104613, 'Business': 0.08978161723583243, 'Political': 0.5288382070386776}}\n",
      "{'time': '2021-06-06 22:45:24', 'channel': 'BBC', 'event': {'others': 1, 'sports': 0, 'crime': 0, 'covid': 0, 'Business': 0, 'Political': 0}, 'eventPred': {'others': 0.4632280449869144, 'sports': 0.16258902611808607, 'crime': 0.08211857563431954, 'covid': 0.009321336748718295, 'Business': 0.2319525243920156, 'Political': 0.050790492119946205}}\n",
      "{'time': '2021-06-06 22:45:25', 'channel': 'BBC', 'event': {'others': 0, 'sports': 0, 'crime': 0, 'covid': 0, 'Business': 0, 'Political': 1}, 'eventPred': {'others': 0.3036881075225143, 'sports': 0.053089173249915446, 'crime': 0.08976020878395331, 'covid': 0.046477099706141535, 'Business': 0.00948133416552957, 'Political': 0.49750407657194584}}\n"
     ]
    },
    {
     "name": "stdout",
     "output_type": "stream",
     "text": [
      "{'time': '2021-06-06 22:45:26', 'channel': 'BBC', 'event': {'others': 0, 'sports': 0, 'crime': 0, 'covid': 1, 'Business': 0, 'Political': 0}, 'eventPred': {'others': 0.2434409686102145, 'sports': 0.033538411967143, 'crime': 0.004143801130391508, 'covid': 0.5998959005622077, 'Business': 0.049043982183731356, 'Political': 0.06993693554631204}}\n",
      "{'time': '2021-06-06 22:45:27', 'channel': 'BBC', 'event': {'others': 0, 'sports': 0, 'crime': 1, 'covid': 0, 'Business': 0, 'Political': 0}, 'eventPred': {'others': 0.1444953005513544, 'sports': 0.11118450969141927, 'crime': 0.35140695614342865, 'covid': 0.024426045646064837, 'Business': 0.23784427135718927, 'Political': 0.13064291661054356}}\n",
      "{'time': '2021-06-06 22:45:28', 'channel': 'BBC', 'event': {'others': 0, 'sports': 0, 'crime': 0, 'covid': 0, 'Business': 0, 'Political': 1}, 'eventPred': {'others': 0.043993727606493456, 'sports': 0.2089580120942755, 'crime': 0.11379608101777662, 'covid': 0.12270776624326525, 'Business': 0.23812280796661175, 'Political': 0.27242160507157737}}\n",
      "{'time': '2021-06-06 22:45:29', 'channel': 'BBC', 'event': {'others': 0, 'sports': 0, 'crime': 0, 'covid': 0, 'Business': 1, 'Political': 0}, 'eventPred': {'others': 0.17874892581096352, 'sports': 0.12620002001220437, 'crime': 0.13813681436585507, 'covid': 0.16719071335953906, 'Business': 0.20885163618166913, 'Political': 0.18087189026976888}}\n",
      "{'time': '2021-06-06 22:45:30', 'channel': 'BBC', 'event': {'others': 0, 'sports': 0, 'crime': 0, 'covid': 0, 'Business': 1, 'Political': 0}, 'eventPred': {'others': 0.2525308799348597, 'sports': 0.1357843674028667, 'crime': 0.03860156776587777, 'covid': 0.030241207795437472, 'Business': 0.41813064305573694, 'Political': 0.12471133404522133}}\n",
      "{'time': '2021-06-06 22:45:31', 'channel': 'BBC', 'event': {'others': 0, 'sports': 0, 'crime': 0, 'covid': 1, 'Business': 0, 'Political': 0}, 'eventPred': {'others': 0.04577888858914813, 'sports': 0.2919786740441726, 'crime': 0.013612553586261723, 'covid': 0.38184435360649516, 'Business': 0.1568964517543531, 'Political': 0.10988907841956952}}\n",
      "{'time': '2021-06-06 22:45:32', 'channel': 'BBC', 'event': {'others': 0, 'sports': 0, 'crime': 0, 'covid': 0, 'Business': 0, 'Political': 1}, 'eventPred': {'others': 0.030886871840853623, 'sports': 0.13725033262475492, 'crime': 0.05534384867156898, 'covid': 0.24250067205204584, 'Business': 0.08442848503685234, 'Political': 0.4495897897739244}}\n",
      "{'time': '2021-06-06 22:45:33', 'channel': 'BBC', 'event': {'others': 0, 'sports': 0, 'crime': 1, 'covid': 0, 'Business': 0, 'Political': 0}, 'eventPred': {'others': 0.13861403661878519, 'sports': 0.2520596990028729, 'crime': 0.26152135213146416, 'covid': 0.06875272907636176, 'Business': 0.1710125823535208, 'Political': 0.10803960081699518}}\n",
      "{'time': '2021-06-06 22:45:34', 'channel': 'BBC', 'event': {'others': 1, 'sports': 0, 'crime': 0, 'covid': 0, 'Business': 0, 'Political': 0}, 'eventPred': {'others': 0.32163438560488766, 'sports': 0.12071738469351542, 'crime': 0.03566324129029652, 'covid': 0.28387687404075135, 'Business': 0.1281446689876221, 'Political': 0.10996344538292707}}\n",
      "{'time': '2021-06-06 22:45:35', 'channel': 'BBC', 'event': {'others': 1, 'sports': 0, 'crime': 0, 'covid': 0, 'Business': 0, 'Political': 0}, 'eventPred': {'others': 0.4027057326441866, 'sports': 0.10467024415091963, 'crime': 0.04045595692046072, 'covid': 0.06670728108941686, 'Business': 0.06751916913246425, 'Political': 0.31794161606255206}}\n",
      "{'time': '2021-06-06 22:45:36', 'channel': 'BBC', 'event': {'others': 0, 'sports': 0, 'crime': 0, 'covid': 0, 'Business': 0, 'Political': 1}, 'eventPred': {'others': 0.1025573519982031, 'sports': 0.07004248613315339, 'crime': 0.102859984289199, 'covid': 0.050729408530978695, 'Business': 0.24767512166619093, 'Political': 0.42613564738227483}}\n",
      "{'time': '2021-06-06 22:45:37', 'channel': 'BBC', 'event': {'others': 0, 'sports': 0, 'crime': 0, 'covid': 0, 'Business': 1, 'Political': 0}, 'eventPred': {'others': 0.030488867172818027, 'sports': 0.10910586310883665, 'crime': 0.0005018734951350715, 'covid': 0.14931716900665698, 'Business': 0.444753513882567, 'Political': 0.26583271333398617}}\n",
      "{'time': '2021-06-06 22:45:38', 'channel': 'BBC', 'event': {'others': 0, 'sports': 0, 'crime': 0, 'covid': 1, 'Business': 0, 'Political': 0}, 'eventPred': {'others': 0.0002946898798882192, 'sports': 0.041304047134147814, 'crime': 0.2745730112490036, 'covid': 0.5458356258243263, 'Business': 0.010296789767758503, 'Political': 0.1276958361448756}}\n",
      "{'time': '2021-06-06 22:45:39', 'channel': 'BBC', 'event': {'others': 0, 'sports': 0, 'crime': 0, 'covid': 0, 'Business': 0, 'Political': 1}, 'eventPred': {'others': 0.06401468402818988, 'sports': 0.22837048470616864, 'crime': 0.0002055877414796824, 'covid': 0.037827653117369284, 'Business': 0.23734995525393265, 'Political': 0.4322316351528598}}\n",
      "{'time': '2021-06-06 22:45:40', 'channel': 'BBC', 'event': {'others': 0, 'sports': 0, 'crime': 1, 'covid': 0, 'Business': 0, 'Political': 0}, 'eventPred': {'others': 0.011556512139683279, 'sports': 0.00892772306407174, 'crime': 0.7626148165029263, 'covid': 0.10684335354207646, 'Business': 0.06159005407514511, 'Political': 0.048467540676097064}}\n",
      "{'time': '2021-06-06 22:45:41', 'channel': 'BBC', 'event': {'others': 0, 'sports': 0, 'crime': 0, 'covid': 1, 'Business': 0, 'Political': 0}, 'eventPred': {'others': 0.18385463273127017, 'sports': 0.05427530132247092, 'crime': 0.013052987936339697, 'covid': 0.5105018309645618, 'Business': 0.12765399445810685, 'Political': 0.11066125258725072}}\n",
      "{'time': '2021-06-06 22:45:42', 'channel': 'BBC', 'event': {'others': 0, 'sports': 0, 'crime': 0, 'covid': 0, 'Business': 1, 'Political': 0}, 'eventPred': {'others': 0.1833544357361102, 'sports': 0.059223091355403455, 'crime': 0.011294406806754111, 'covid': 0.007202965656639705, 'Business': 0.46306665205048836, 'Political': 0.27585844839460416}}\n",
      "{'time': '2021-06-06 22:45:43', 'channel': 'BBC', 'event': {'others': 1, 'sports': 0, 'crime': 0, 'covid': 0, 'Business': 0, 'Political': 0}, 'eventPred': {'others': 0.6831774564307875, 'sports': 0.06907940596141056, 'crime': 0.04784736681337792, 'covid': 0.014189812332547201, 'Business': 0.1446373027424025, 'Political': 0.04106865571947422}}\n",
      "{'time': '2021-06-06 22:45:44', 'channel': 'BBC', 'event': {'others': 0, 'sports': 0, 'crime': 0, 'covid': 0, 'Business': 1, 'Political': 0}, 'eventPred': {'others': 0.26465593050573105, 'sports': 0.05713920207872941, 'crime': 0.033036296954449734, 'covid': 0.11838269593724221, 'Business': 0.4652095781026144, 'Political': 0.06157629642123323}}\n",
      "{'time': '2021-06-06 22:45:45', 'channel': 'BBC', 'event': {'others': 0, 'sports': 1, 'crime': 0, 'covid': 0, 'Business': 0, 'Political': 0}, 'eventPred': {'others': 0.13379034874272147, 'sports': 0.3423531487574261, 'crime': 0.1951672368076581, 'covid': 0.07684747389809328, 'Business': 0.19091387179875802, 'Political': 0.060927919995342944}}\n",
      "{'time': '2021-06-06 22:45:46', 'channel': 'BBC', 'event': {'others': 1, 'sports': 0, 'crime': 0, 'covid': 0, 'Business': 0, 'Political': 0}, 'eventPred': {'others': 0.4411311875265982, 'sports': 0.14149704859358359, 'crime': 0.15805675604773894, 'covid': 0.10845073751982579, 'Business': 0.09758105042211589, 'Political': 0.05328321989013777}}\n",
      "{'time': '2021-06-06 22:45:47', 'channel': 'BBC', 'event': {'others': 0, 'sports': 1, 'crime': 0, 'covid': 0, 'Business': 0, 'Political': 0}, 'eventPred': {'others': 0.040135809549450514, 'sports': 0.29523192020212297, 'crime': 0.1240281717005368, 'covid': 0.20592564437493735, 'Business': 0.2853490502786016, 'Political': 0.049329403894350754}}\n",
      "{'time': '2021-06-06 22:45:48', 'channel': 'BBC', 'event': {'others': 0, 'sports': 0, 'crime': 0, 'covid': 1, 'Business': 0, 'Political': 0}, 'eventPred': {'others': 0.01436113858629407, 'sports': 0.21789706462651456, 'crime': 0.21443444485440274, 'covid': 0.3331872125932309, 'Business': 0.13785641928188638, 'Political': 0.08226372005767137}}\n",
      "{'time': '2021-06-06 22:45:49', 'channel': 'BBC', 'event': {'others': 1, 'sports': 0, 'crime': 0, 'covid': 0, 'Business': 0, 'Political': 0}, 'eventPred': {'others': 0.6380797622385395, 'sports': 0.11177205923066724, 'crime': 0.04003672749048044, 'covid': 0.06525643299869904, 'Business': 0.12359237074429473, 'Political': 0.02126264729731897}}\n"
     ]
    },
    {
     "name": "stdout",
     "output_type": "stream",
     "text": [
      "{'time': '2021-06-06 22:45:50', 'channel': 'BBC', 'event': {'others': 0, 'sports': 0, 'crime': 0, 'covid': 0, 'Business': 1, 'Political': 0}, 'eventPred': {'others': 0.22469503344070652, 'sports': 0.09486598042991583, 'crime': 0.07904630530551957, 'covid': 0.13361910348137682, 'Business': 0.28131325457354056, 'Political': 0.18646032276894092}}\n",
      "{'time': '2021-06-06 22:45:51', 'channel': 'BBC', 'event': {'others': 0, 'sports': 1, 'crime': 0, 'covid': 0, 'Business': 0, 'Political': 0}, 'eventPred': {'others': 0.07424963457963403, 'sports': 0.2718482402469946, 'crime': 0.17248213679016455, 'covid': 0.109103168453665, 'Business': 0.11190911251312256, 'Political': 0.2604077074164193}}\n",
      "{'time': '2021-06-06 22:45:52', 'channel': 'BBC', 'event': {'others': 0, 'sports': 0, 'crime': 0, 'covid': 0, 'Business': 0, 'Political': 1}, 'eventPred': {'others': 0.08045033002723766, 'sports': 0.34420039462269514, 'crime': 0.07283056529446372, 'covid': 0.016339302185356955, 'Business': 0.13138060583859867, 'Political': 0.3547988020316479}}\n",
      "{'time': '2021-06-06 22:45:53', 'channel': 'BBC', 'event': {'others': 1, 'sports': 0, 'crime': 0, 'covid': 0, 'Business': 0, 'Political': 0}, 'eventPred': {'others': 0.3167571755452611, 'sports': 0.08770689425835487, 'crime': 0.005866078990136625, 'covid': 0.2649705632048786, 'Business': 0.027321881887268806, 'Political': 0.29737740611409985}}\n",
      "{'time': '2021-06-06 22:45:54', 'channel': 'BBC', 'event': {'others': 0, 'sports': 0, 'crime': 0, 'covid': 1, 'Business': 0, 'Political': 0}, 'eventPred': {'others': 0.22195193105932742, 'sports': 0.01882361183831102, 'crime': 0.2494469709363357, 'covid': 0.496151504861569, 'Business': 0.0015351215877497043, 'Political': 0.012090859716707071}}\n",
      "{'time': '2021-06-06 22:45:55', 'channel': 'BBC', 'event': {'others': 0, 'sports': 1, 'crime': 0, 'covid': 0, 'Business': 0, 'Political': 0}, 'eventPred': {'others': 0.04618536782319673, 'sports': 0.4604317180529948, 'crime': 0.030701479793796508, 'covid': 0.07118081439561581, 'Business': 0.11572412890162641, 'Political': 0.27577649103276963}}\n",
      "{'time': '2021-06-06 22:45:56', 'channel': 'BBC', 'event': {'others': 1, 'sports': 0, 'crime': 0, 'covid': 0, 'Business': 0, 'Political': 0}, 'eventPred': {'others': 0.37565028098408176, 'sports': 0.17604946898827176, 'crime': 0.03544606960979462, 'covid': 0.09292710114897974, 'Business': 0.024131146391818546, 'Political': 0.2957959328770534}}\n",
      "{'time': '2021-06-06 22:45:57', 'channel': 'BBC', 'event': {'others': 0, 'sports': 1, 'crime': 0, 'covid': 0, 'Business': 0, 'Political': 0}, 'eventPred': {'others': 0.25580037273794937, 'sports': 0.3618237842515369, 'crime': 0.08700800076495202, 'covid': 0.005338289221002302, 'Business': 0.18405103632792566, 'Political': 0.10597851669663363}}\n",
      "{'time': '2021-06-06 22:45:58', 'channel': 'BBC', 'event': {'others': 1, 'sports': 0, 'crime': 0, 'covid': 0, 'Business': 0, 'Political': 0}, 'eventPred': {'others': 0.4123647878215501, 'sports': 0.05691887544171584, 'crime': 0.061383400567025105, 'covid': 0.13136972768927857, 'Business': 0.05147407703850048, 'Political': 0.2864891314419299}}\n",
      "{'time': '2021-06-06 22:45:59', 'channel': 'BBC', 'event': {'others': 0, 'sports': 0, 'crime': 0, 'covid': 1, 'Business': 0, 'Political': 0}, 'eventPred': {'others': 0.03483148636924058, 'sports': 0.16495133040200322, 'crime': 0.09687283370803516, 'covid': 0.5022470758050365, 'Business': 0.11799911597846231, 'Political': 0.08309815773722232}}\n",
      "{'time': '2021-06-06 22:46:00', 'channel': 'BBC', 'event': {'others': 0, 'sports': 1, 'crime': 0, 'covid': 0, 'Business': 0, 'Political': 0}, 'eventPred': {'others': 0.03864969839860011, 'sports': 0.4410617357787862, 'crime': 0.055100072975808476, 'covid': 0.05401518452083363, 'Business': 0.012784674468180577, 'Political': 0.398388633857791}}\n",
      "{'time': '2021-06-06 22:46:01', 'channel': 'BBC', 'event': {'others': 0, 'sports': 0, 'crime': 0, 'covid': 0, 'Business': 0, 'Political': 1}, 'eventPred': {'others': 0.012778994348367215, 'sports': 0.011337264121256484, 'crime': 0.1356079501281879, 'covid': 0.08110819199657483, 'Business': 0.1334723262982997, 'Political': 0.6256952731073138}}\n",
      "{'time': '2021-06-06 22:46:02', 'channel': 'BBC', 'event': {'others': 0, 'sports': 0, 'crime': 0, 'covid': 0, 'Business': 1, 'Political': 0}, 'eventPred': {'others': 0.09441659789338484, 'sports': 0.09512892142861797, 'crime': 0.09652272344281311, 'covid': 0.12186172584130821, 'Business': 0.5147878447883265, 'Political': 0.07728218660554939}}\n",
      "{'time': '2021-06-06 22:46:03', 'channel': 'BBC', 'event': {'others': 0, 'sports': 0, 'crime': 0, 'covid': 0, 'Business': 0, 'Political': 1}, 'eventPred': {'others': 0.006271112150695113, 'sports': 0.041680909560635825, 'crime': 0.03903087543671792, 'covid': 0.06240131358093646, 'Business': 0.0006372145771380071, 'Political': 0.8499785746938767}}\n",
      "{'time': '2021-06-06 22:46:04', 'channel': 'BBC', 'event': {'others': 0, 'sports': 0, 'crime': 1, 'covid': 0, 'Business': 0, 'Political': 0}, 'eventPred': {'others': 0.15422378735426803, 'sports': 0.03679790527119579, 'crime': 0.4041247798150053, 'covid': 0.13315968499691258, 'Business': 0.027568189133139593, 'Political': 0.2441256534294786}}\n",
      "{'time': '2021-06-06 22:46:05', 'channel': 'BBC', 'event': {'others': 0, 'sports': 1, 'crime': 0, 'covid': 0, 'Business': 0, 'Political': 0}, 'eventPred': {'others': 0.0035680586717358187, 'sports': 0.3810384714758544, 'crime': 0.1253417217792414, 'covid': 0.17143442534558978, 'Business': 0.12368058572807795, 'Political': 0.1949367369995006}}\n",
      "{'time': '2021-06-06 22:46:06', 'channel': 'BBC', 'event': {'others': 0, 'sports': 0, 'crime': 1, 'covid': 0, 'Business': 0, 'Political': 0}, 'eventPred': {'others': 0.0690635648100368, 'sports': 0.09564218549139662, 'crime': 0.4711413772436577, 'covid': 0.04858196417073129, 'Business': 0.2400813691032447, 'Political': 0.07548953918093299}}\n",
      "{'time': '2021-06-06 22:46:07', 'channel': 'BBC', 'event': {'others': 0, 'sports': 1, 'crime': 0, 'covid': 0, 'Business': 0, 'Political': 0}, 'eventPred': {'others': 0.20121999316472905, 'sports': 0.307122211555741, 'crime': 0.18085326191584972, 'covid': 0.01757888308899196, 'Business': 0.14293298249354025, 'Political': 0.15029266778114803}}\n",
      "{'time': '2021-06-06 22:46:08', 'channel': 'BBC', 'event': {'others': 0, 'sports': 0, 'crime': 0, 'covid': 0, 'Business': 0, 'Political': 1}, 'eventPred': {'others': 0.11695687223815149, 'sports': 0.24198849018412985, 'crime': 0.07965669468714301, 'covid': 0.26167085207763885, 'Business': 0.00859261819969877, 'Political': 0.2911344726132378}}\n",
      "{'time': '2021-06-06 22:46:09', 'channel': 'BBC', 'event': {'others': 0, 'sports': 0, 'crime': 1, 'covid': 0, 'Business': 0, 'Political': 0}, 'eventPred': {'others': 0.05394516177360239, 'sports': 0.09606059329032321, 'crime': 0.43450734417542214, 'covid': 0.35904895856133145, 'Business': 0.006670834177415952, 'Political': 0.049767108021904816}}\n",
      "{'time': '2021-06-06 22:46:10', 'channel': 'BBC', 'event': {'others': 0, 'sports': 0, 'crime': 0, 'covid': 0, 'Business': 1, 'Political': 0}, 'eventPred': {'others': 0.10040834142179665, 'sports': 0.18204082742219846, 'crime': 0.11392073721827982, 'covid': 0.04121983621660719, 'Business': 0.34899292157861067, 'Political': 0.21341733614250716}}\n"
     ]
    },
    {
     "ename": "KeyboardInterrupt",
     "evalue": "",
     "output_type": "error",
     "traceback": [
      "\u001b[0;31m---------------------------------------------------------------------------\u001b[0m",
      "\u001b[0;31mKeyboardInterrupt\u001b[0m                         Traceback (most recent call last)",
      "\u001b[0;32m<ipython-input-17-973115344177>\u001b[0m in \u001b[0;36m<module>\u001b[0;34m\u001b[0m\n\u001b[1;32m      3\u001b[0m     \u001b[0mproducer\u001b[0m\u001b[0;34m.\u001b[0m\u001b[0msend\u001b[0m\u001b[0;34m(\u001b[0m\u001b[0;34m'news'\u001b[0m\u001b[0;34m,\u001b[0m \u001b[0mvalue\u001b[0m \u001b[0;34m=\u001b[0m \u001b[0mresponse\u001b[0m\u001b[0;34m)\u001b[0m\u001b[0;34m\u001b[0m\u001b[0;34m\u001b[0m\u001b[0m\n\u001b[1;32m      4\u001b[0m     \u001b[0mprint\u001b[0m\u001b[0;34m(\u001b[0m\u001b[0mresponse\u001b[0m\u001b[0;34m)\u001b[0m\u001b[0;34m\u001b[0m\u001b[0;34m\u001b[0m\u001b[0m\n\u001b[0;32m----> 5\u001b[0;31m     \u001b[0mtime\u001b[0m\u001b[0;34m.\u001b[0m\u001b[0msleep\u001b[0m\u001b[0;34m(\u001b[0m\u001b[0;36m1\u001b[0m\u001b[0;34m)\u001b[0m\u001b[0;34m\u001b[0m\u001b[0;34m\u001b[0m\u001b[0m\n\u001b[0m",
      "\u001b[0;31mKeyboardInterrupt\u001b[0m: "
     ]
    }
   ],
   "source": [
    "while True:\n",
    "    response = genDict()\n",
    "    producer.send('news', value = response)\n",
    "    print(response)\n",
    "    time.sleep(1)"
   ]
  },
  {
   "cell_type": "code",
   "execution_count": 12,
   "metadata": {},
   "outputs": [],
   "source": [
    "import json\n",
    "import datetime\n",
    "import numpy as np\n",
    "import sys\n",
    "import time\n",
    "from kafka import KafkaProducer\n",
    "from collections import OrderedDict\n",
    "producer = KafkaProducer(bootstrap_servers = 'localhost:9092',value_serializer=lambda v: json.dumps(v).encode('utf-8'))\n"
   ]
  },
  {
   "cell_type": "code",
   "execution_count": 19,
   "metadata": {},
   "outputs": [
    {
     "name": "stderr",
     "output_type": "stream",
     "text": [
      "Failed to connect to localhost:9000\n",
      "Traceback (most recent call last):\n",
      "  File \"/home/chaitanya/anaconda3/lib/python3.8/site-packages/clickhouse_driver/connection.py\", line 318, in connect\n",
      "    return self._init_connection(host, port)\n",
      "  File \"/home/chaitanya/anaconda3/lib/python3.8/site-packages/clickhouse_driver/connection.py\", line 282, in _init_connection\n",
      "    self.socket = self._create_socket(host, port)\n",
      "  File \"/home/chaitanya/anaconda3/lib/python3.8/site-packages/clickhouse_driver/connection.py\", line 254, in _create_socket\n",
      "    raise err\n",
      "  File \"/home/chaitanya/anaconda3/lib/python3.8/site-packages/clickhouse_driver/connection.py\", line 245, in _create_socket\n",
      "    sock.connect(sa)\n",
      "ConnectionRefusedError: [Errno 111] Connection refused\n"
     ]
    },
    {
     "ename": "NetworkError",
     "evalue": "Code: 210. Connection refused (localhost:9000)",
     "output_type": "error",
     "traceback": [
      "\u001b[0;31m---------------------------------------------------------------------------\u001b[0m",
      "\u001b[0;31mNetworkError\u001b[0m                              Traceback (most recent call last)",
      "\u001b[0;32m<ipython-input-19-d47dc4914ca2>\u001b[0m in \u001b[0;36m<module>\u001b[0;34m\u001b[0m\n\u001b[0;32m----> 1\u001b[0;31m \u001b[0mclient\u001b[0m\u001b[0;34m.\u001b[0m\u001b[0mexecute\u001b[0m\u001b[0;34m(\u001b[0m\u001b[0;34m\"INSERT INTO bd.news format JSONEachRow {}\"\u001b[0m\u001b[0;34m.\u001b[0m\u001b[0mformat\u001b[0m\u001b[0;34m(\u001b[0m\u001b[0mgenDict\u001b[0m\u001b[0;34m(\u001b[0m\u001b[0;34m)\u001b[0m\u001b[0;34m)\u001b[0m\u001b[0;34m)\u001b[0m\u001b[0;34m\u001b[0m\u001b[0;34m\u001b[0m\u001b[0m\n\u001b[0m",
      "\u001b[0;32m~/anaconda3/lib/python3.8/site-packages/clickhouse_driver/client.py\u001b[0m in \u001b[0;36mexecute\u001b[0;34m(self, query, params, with_column_types, external_tables, query_id, settings, types_check, columnar)\u001b[0m\n\u001b[1;32m    250\u001b[0m         \u001b[0mstart_time\u001b[0m \u001b[0;34m=\u001b[0m \u001b[0mtime\u001b[0m\u001b[0;34m(\u001b[0m\u001b[0;34m)\u001b[0m\u001b[0;34m\u001b[0m\u001b[0;34m\u001b[0m\u001b[0m\n\u001b[1;32m    251\u001b[0m         \u001b[0mself\u001b[0m\u001b[0;34m.\u001b[0m\u001b[0mmake_query_settings\u001b[0m\u001b[0;34m(\u001b[0m\u001b[0msettings\u001b[0m\u001b[0;34m)\u001b[0m\u001b[0;34m\u001b[0m\u001b[0;34m\u001b[0m\u001b[0m\n\u001b[0;32m--> 252\u001b[0;31m         \u001b[0mself\u001b[0m\u001b[0;34m.\u001b[0m\u001b[0mconnection\u001b[0m\u001b[0;34m.\u001b[0m\u001b[0mforce_connect\u001b[0m\u001b[0;34m(\u001b[0m\u001b[0;34m)\u001b[0m\u001b[0;34m\u001b[0m\u001b[0;34m\u001b[0m\u001b[0m\n\u001b[0m\u001b[1;32m    253\u001b[0m         \u001b[0mself\u001b[0m\u001b[0;34m.\u001b[0m\u001b[0mlast_query\u001b[0m \u001b[0;34m=\u001b[0m \u001b[0mQueryInfo\u001b[0m\u001b[0;34m(\u001b[0m\u001b[0;34m)\u001b[0m\u001b[0;34m\u001b[0m\u001b[0;34m\u001b[0m\u001b[0m\n\u001b[1;32m    254\u001b[0m \u001b[0;34m\u001b[0m\u001b[0m\n",
      "\u001b[0;32m~/anaconda3/lib/python3.8/site-packages/clickhouse_driver/connection.py\u001b[0m in \u001b[0;36mforce_connect\u001b[0;34m(self)\u001b[0m\n\u001b[1;32m    210\u001b[0m     \u001b[0;32mdef\u001b[0m \u001b[0mforce_connect\u001b[0m\u001b[0;34m(\u001b[0m\u001b[0mself\u001b[0m\u001b[0;34m)\u001b[0m\u001b[0;34m:\u001b[0m\u001b[0;34m\u001b[0m\u001b[0;34m\u001b[0m\u001b[0m\n\u001b[1;32m    211\u001b[0m         \u001b[0;32mif\u001b[0m \u001b[0;32mnot\u001b[0m \u001b[0mself\u001b[0m\u001b[0;34m.\u001b[0m\u001b[0mconnected\u001b[0m\u001b[0;34m:\u001b[0m\u001b[0;34m\u001b[0m\u001b[0;34m\u001b[0m\u001b[0m\n\u001b[0;32m--> 212\u001b[0;31m             \u001b[0mself\u001b[0m\u001b[0;34m.\u001b[0m\u001b[0mconnect\u001b[0m\u001b[0;34m(\u001b[0m\u001b[0;34m)\u001b[0m\u001b[0;34m\u001b[0m\u001b[0;34m\u001b[0m\u001b[0m\n\u001b[0m\u001b[1;32m    213\u001b[0m \u001b[0;34m\u001b[0m\u001b[0m\n\u001b[1;32m    214\u001b[0m         \u001b[0;32melif\u001b[0m \u001b[0;32mnot\u001b[0m \u001b[0mself\u001b[0m\u001b[0;34m.\u001b[0m\u001b[0mping\u001b[0m\u001b[0;34m(\u001b[0m\u001b[0;34m)\u001b[0m\u001b[0;34m:\u001b[0m\u001b[0;34m\u001b[0m\u001b[0;34m\u001b[0m\u001b[0m\n",
      "\u001b[0;32m~/anaconda3/lib/python3.8/site-packages/clickhouse_driver/connection.py\u001b[0m in \u001b[0;36mconnect\u001b[0;34m(self)\u001b[0m\n\u001b[1;32m    337\u001b[0m \u001b[0;34m\u001b[0m\u001b[0m\n\u001b[1;32m    338\u001b[0m         \u001b[0;32mif\u001b[0m \u001b[0merr\u001b[0m \u001b[0;32mis\u001b[0m \u001b[0;32mnot\u001b[0m \u001b[0;32mNone\u001b[0m\u001b[0;34m:\u001b[0m\u001b[0;34m\u001b[0m\u001b[0;34m\u001b[0m\u001b[0m\n\u001b[0;32m--> 339\u001b[0;31m             \u001b[0;32mraise\u001b[0m \u001b[0merr\u001b[0m\u001b[0;34m\u001b[0m\u001b[0;34m\u001b[0m\u001b[0m\n\u001b[0m\u001b[1;32m    340\u001b[0m \u001b[0;34m\u001b[0m\u001b[0m\n\u001b[1;32m    341\u001b[0m     \u001b[0;32mdef\u001b[0m \u001b[0mreset_state\u001b[0m\u001b[0;34m(\u001b[0m\u001b[0mself\u001b[0m\u001b[0;34m)\u001b[0m\u001b[0;34m:\u001b[0m\u001b[0;34m\u001b[0m\u001b[0;34m\u001b[0m\u001b[0m\n",
      "\u001b[0;31mNetworkError\u001b[0m: Code: 210. Connection refused (localhost:9000)"
     ]
    }
   ],
   "source": [
    "client.execute(\"INSERT INTO bd.news format JSONEachRow {}\".format(genDict()))"
   ]
  }
 ],
 "metadata": {
  "kernelspec": {
   "display_name": "Python 3",
   "language": "python",
   "name": "python3"
  },
  "language_info": {
   "codemirror_mode": {
    "name": "ipython",
    "version": 3
   },
   "file_extension": ".py",
   "mimetype": "text/x-python",
   "name": "python",
   "nbconvert_exporter": "python",
   "pygments_lexer": "ipython3",
   "version": "3.8.5"
  }
 },
 "nbformat": 4,
 "nbformat_minor": 2
}
